{
  "nbformat": 4,
  "nbformat_minor": 0,
  "metadata": {
    "colab": {
      "name": "2875. 대회 or 인턴.ipynb",
      "provenance": [],
      "collapsed_sections": [],
      "authorship_tag": "ABX9TyO1VAP+W9OzE7PyXEK9D8Pn",
      "include_colab_link": true
    },
    "kernelspec": {
      "name": "python3",
      "display_name": "Python 3"
    }
  },
  "cells": [
    {
      "cell_type": "markdown",
      "metadata": {
        "id": "view-in-github",
        "colab_type": "text"
      },
      "source": [
        "<a href=\"https://colab.research.google.com/github/choi-yh/BOJ/blob/master/2875_%EB%8C%80%ED%9A%8C_or_%EC%9D%B8%ED%84%B4.ipynb\" target=\"_parent\"><img src=\"https://colab.research.google.com/assets/colab-badge.svg\" alt=\"Open In Colab\"/></a>"
      ]
    },
    {
      "cell_type": "markdown",
      "metadata": {
        "id": "aLoYuiG4zFet"
      },
      "source": [
        "### 10.29\n",
        "https://www.acmicpc.net/problem/2875\n",
        "\n",
        "문제\n",
        "---\n",
        "백준대학교에서는 대회에 나갈 때 2명의 여학생과 1명의 남학생이 팀을 결성해서 나가는 것이 원칙이다. (왜인지는 총장님께 여쭈어보는 것이 좋겠다.)\n",
        "\n",
        "백준대학교는 뛰어난 인재들이 많아 올해에도 N명의 여학생과 M명의 남학생이 팀원을 찾고 있다. 대회에 참여하려는 학생들 중 K명은 반드시 인턴쉽 프로그램에 참여해야 한다. 인턴쉽에 참여하는 학생은 대회에 참여하지 못한다.\n",
        "\n",
        "백준대학교에서는 뛰어난 인재들이 많기 때문에, 많은 팀을 만드는 것이 최선이다.\n",
        "\n",
        "여러분은 여학생의 수 N, 남학생의 수 M, 인턴쉽에 참여해야하는 인원 K가 주어질 때 만들 수 있는 최대의 팀 수를 구하면 된다.\n",
        "\n",
        "입력\n",
        "---\n",
        "첫째 줄에 N, M, K가 순서대로 주어진다. (0 ≤ M ≤ 100, 0 ≤ N ≤ 100, 0 ≤ K ≤ M+N),\n",
        "\n",
        "출력\n",
        "---\n",
        "만들 수 있는 팀의 최대 개수을 출력하면 된다."
      ]
    },
    {
      "cell_type": "code",
      "metadata": {
        "id": "uE9waZup0AuS",
        "outputId": "39ac38ec-b052-42f9-f8c3-17046ec00713",
        "colab": {
          "base_uri": "https://localhost:8080/"
        }
      },
      "source": [
        "n, m, k = map(int, input().split())\n",
        "\n",
        "team = 0\n",
        "while n > 1 and m > 0 and n + m >= k + 3:\n",
        "    n -= 2\n",
        "    m -= 1\n",
        "    team += 1\n",
        "\n",
        "print(team)"
      ],
      "execution_count": 14,
      "outputs": [
        {
          "output_type": "stream",
          "text": [
            "6 3 2\n",
            "2\n"
          ],
          "name": "stdout"
        }
      ]
    },
    {
      "cell_type": "code",
      "metadata": {
        "id": "j6RsF_P9SNBH"
      },
      "source": [
        ""
      ],
      "execution_count": null,
      "outputs": []
    }
  ]
}
