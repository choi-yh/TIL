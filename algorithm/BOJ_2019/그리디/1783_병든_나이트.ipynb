{
  "nbformat": 4,
  "nbformat_minor": 0,
  "metadata": {
    "colab": {
      "name": "1783. 병든 나이트.ipynb",
      "provenance": [],
      "collapsed_sections": [],
      "authorship_tag": "ABX9TyM2parYP4IHkkbgkxRD+Qo6",
      "include_colab_link": true
    },
    "kernelspec": {
      "name": "python3",
      "display_name": "Python 3"
    }
  },
  "cells": [
    {
      "cell_type": "markdown",
      "metadata": {
        "id": "view-in-github",
        "colab_type": "text"
      },
      "source": [
        "<a href=\"https://colab.research.google.com/github/choi-yh/BOJ/blob/master/%EA%B7%B8%EB%A6%AC%EB%94%94/1783_%EB%B3%91%EB%93%A0_%EB%82%98%EC%9D%B4%ED%8A%B8.ipynb\" target=\"_parent\"><img src=\"https://colab.research.google.com/assets/colab-badge.svg\" alt=\"Open In Colab\"/></a>"
      ]
    },
    {
      "cell_type": "markdown",
      "metadata": {
        "id": "qUyR4ufo3nOy"
      },
      "source": [
        "### 10.07\n",
        "https://www.acmicpc.net/problem/1783\n",
        "\n",
        "문제\n",
        "---\n",
        "병든 나이트가 N × M 크기 체스판의 가장 왼쪽아래 칸에 위치해 있다. 병든 나이트는 건강한 보통 체스의 나이트와 다르게 4가지로만 움직일 수 있다.\n",
        "\n",
        "1. 2칸 위로, 1칸 오른쪽\n",
        "2. 1칸 위로, 2칸 오른쪽\n",
        "3. 1칸 아래로, 2칸 오른쪽\n",
        "4. 2칸 아래로, 1칸 오른쪽\n",
        "\n",
        "병든 나이트는 여행을 시작하려고 하고, 여행을 하면서 방문한 칸의 수를 최대로 하려고 한다. 병든 나이트의 이동 횟수가 4번보다 적지 않다면, 이동 방법을 모두 한 번씩 사용해야 한다. 이동 횟수가 4번보다 적은 경우(방문한 칸이 5개 미만)에는 이동 방법에 대한 제약이 없다.\n",
        "\n",
        "체스판의 크기가 주어졌을 때, 병든 나이트가 여행에서 방문할 수 있는 칸의 최대 개수를 구해보자.\n",
        "\n",
        "입력\n",
        "---\n",
        "첫째 줄에 체스판의 세로 길이 N와 가로 길이 M이 주어진다. N과 M은 2,000,000,000보다 작거나 같은 자연수이다.\n",
        "\n",
        "출력\n",
        "---\n",
        "병든 나이트가 여행에서 방문할 수 있는 칸의 개수중 최댓값을 출력한다."
      ]
    },
    {
      "cell_type": "code",
      "metadata": {
        "id": "N5PxfmDhPxHQ",
        "outputId": "af115ac7-67a3-4955-868d-ec60e3a7106d",
        "colab": {
          "base_uri": "https://localhost:8080/",
          "height": 52
        }
      },
      "source": [
        "n, m = map(int, input().split())\n",
        "\n",
        "if n == 1: # 이동 불가\n",
        "    print(1)\n",
        "elif n == 2: # 2번과 3번만 쓸 수 있다.\n",
        "    if m >= 7: # 2, 3번을 최대로 사용\n",
        "        print(4)\n",
        "    elif m >= 3: # 그림 그리면 이해에 약간 도움이 된다.\n",
        "        print((m+1) // 2)\n",
        "    else:\n",
        "        print(1)\n",
        "elif n >= 3: # 1번과 4번을 사용 가능할 때,\n",
        "    if m >= 7: # 1234를 모두 사용 가능\n",
        "        print(m - 2) # (m-7) + 4 + 1\n",
        "    elif m >= 4: # 14만 최대로 사용\n",
        "        print(4)\n",
        "    else:\n",
        "        print(m)"
      ],
      "execution_count": 13,
      "outputs": [
        {
          "output_type": "stream",
          "text": [
            "2 4\n",
            "2\n"
          ],
          "name": "stdout"
        }
      ]
    },
    {
      "cell_type": "code",
      "metadata": {
        "id": "k3DI_STAQZLT"
      },
      "source": [
        ""
      ],
      "execution_count": null,
      "outputs": []
    }
  ]
}