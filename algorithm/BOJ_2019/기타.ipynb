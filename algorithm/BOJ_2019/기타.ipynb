{
  "nbformat": 4,
  "nbformat_minor": 0,
  "metadata": {
    "colab": {
      "name": "기타.ipynb",
      "provenance": [],
      "collapsed_sections": [],
      "authorship_tag": "ABX9TyOYxWf+OVr0WdKt1WQZ3fnr",
      "include_colab_link": true
    },
    "kernelspec": {
      "name": "python3",
      "display_name": "Python 3"
    }
  },
  "cells": [
    {
      "cell_type": "markdown",
      "metadata": {
        "id": "view-in-github",
        "colab_type": "text"
      },
      "source": [
        "<a href=\"https://colab.research.google.com/github/choi-yh/BOJ/blob/master/%EA%B8%B0%ED%83%80.ipynb\" target=\"_parent\"><img src=\"https://colab.research.google.com/assets/colab-badge.svg\" alt=\"Open In Colab\"/></a>"
      ]
    },
    {
      "cell_type": "markdown",
      "metadata": {
        "id": "WDeoDa2meWa5",
        "colab_type": "text"
      },
      "source": [
        "2751, 11650, 11651, 10814, 10825, 10989, 11652, 11004, 10828, 9012, 10799, 10845, 10866, 10808, 10809, 10820, 2743, 11655, 10824, 11656, 1406, 1158, 1168, 10430, 2609, 1934, 1850, 9613, 11005, 2745, 1373, 1212, 2089, 11576, 1978, 1929, 6588, 11653, 10872, 1676, 2004"
      ]
    },
    {
      "cell_type": "markdown",
      "metadata": {
        "id": "u4U9b6gaGiv9",
        "colab_type": "text"
      },
      "source": [
        "## 정렬"
      ]
    },
    {
      "cell_type": "markdown",
      "metadata": {
        "id": "d6Kexti8YEYT",
        "colab_type": "text"
      },
      "source": [
        "### <font color = 'green'> 2751. 수 정렬하기 2 (09.06)\n",
        "https://www.acmicpc.net/problem/2751"
      ]
    },
    {
      "cell_type": "code",
      "metadata": {
        "id": "ljuA-RtMYF8A",
        "colab_type": "code",
        "colab": {}
      },
      "source": [
        "# 입력 받기\n",
        "n = int(input())\n",
        "array = []\n",
        "for _ in range(n):\n",
        "    array.append(int(input()))\n",
        "\n",
        "# 정렬 후 출력\n",
        "array.sort()\n",
        "for item in array:\n",
        "    print(item)"
      ],
      "execution_count": null,
      "outputs": []
    },
    {
      "cell_type": "code",
      "metadata": {
        "id": "LNw0AJpfYGDw",
        "colab_type": "code",
        "colab": {
          "base_uri": "https://localhost:8080/",
          "height": 35
        },
        "outputId": "23ae0b1a-5de3-4b25-e320-45f1d45358c7"
      },
      "source": [
        "array.sort()\n",
        "array"
      ],
      "execution_count": null,
      "outputs": [
        {
          "output_type": "execute_result",
          "data": {
            "text/plain": [
              "[1, 2, 3, 4, 5]"
            ]
          },
          "metadata": {
            "tags": []
          },
          "execution_count": 3
        }
      ]
    },
    {
      "cell_type": "markdown",
      "metadata": {
        "id": "SE0zEucpY9MO",
        "colab_type": "text"
      },
      "source": [
        "### <font color = 'green'> 11650. 좌표 정렬하기 (09.06)\n",
        "https://www.acmicpc.net/problem/11650"
      ]
    },
    {
      "cell_type": "code",
      "metadata": {
        "id": "F1Z-QxsHY9Qd",
        "colab_type": "code",
        "colab": {
          "base_uri": "https://localhost:8080/",
          "height": 125
        },
        "outputId": "d082f336-7ca6-4d46-d6dd-6e2c0ef561eb"
      },
      "source": [
        "# 입력 받기\n",
        "n = int(input())\n",
        "array = []\n",
        "for _ in range(n):\n",
        "    x, y = map(int, input().split())\n",
        "    array.append((x, y))\n",
        "\n",
        "# 정렬 후 출력\n",
        "array.sort()\n",
        "for item in array:\n",
        "    print(item[0], item[1])"
      ],
      "execution_count": null,
      "outputs": [
        {
          "output_type": "stream",
          "text": [
            "5\n",
            "3 4 \n",
            "1 1\n",
            "1 -1\n",
            "2 2\n",
            "3 3\n"
          ],
          "name": "stdout"
        }
      ]
    },
    {
      "cell_type": "markdown",
      "metadata": {
        "id": "A-58gZn8Y9X3",
        "colab_type": "text"
      },
      "source": [
        "### <font color = 'orange'> 11651. 좌표 정렬하기 2 (09.06)\n",
        "https://www.acmicpc.net/problem/11651"
      ]
    },
    {
      "cell_type": "code",
      "metadata": {
        "id": "rE7V9tvlY9eL",
        "colab_type": "code",
        "colab": {
          "base_uri": "https://localhost:8080/",
          "height": 215
        },
        "outputId": "484089cd-e64b-45fc-e76e-89367be49376"
      },
      "source": [
        "# 입력 받기\n",
        "n = int(input())\n",
        "array = []\n",
        "for _ in range(n):\n",
        "    x, y = map(int, input().split())\n",
        "    array.append([x, y])\n",
        "\n",
        "# 정렬 후 출력하기\n",
        "array.sort(key=lambda x: (x[1], x[0])) # y좌표가 같다면 x 좌표를 기준으로 정렬해야하므로 x축 기준도 설정한다.\n",
        "for item in array:\n",
        "    print(item[0], item[1])"
      ],
      "execution_count": null,
      "outputs": [
        {
          "output_type": "stream",
          "text": [
            "5\n",
            "0 4\n",
            "1 2\n",
            "1 -1\n",
            "2 2\n",
            "3 3\n",
            "1 -1\n",
            "1 2\n",
            "2 2\n",
            "3 3\n",
            "0 4\n"
          ],
          "name": "stdout"
        }
      ]
    },
    {
      "cell_type": "markdown",
      "metadata": {
        "id": "6oJT4CgDaG8Z",
        "colab_type": "text"
      },
      "source": [
        "### <font color = 'green'> 10814. 나이순 정렬 (09.06)\n",
        "https://www.acmicpc.net/problem/10814"
      ]
    },
    {
      "cell_type": "code",
      "metadata": {
        "id": "ql7pHbdGbyax",
        "colab_type": "code",
        "colab": {
          "base_uri": "https://localhost:8080/",
          "height": 143
        },
        "outputId": "0ae933c2-e5a3-4d6f-accb-ac37f847f910"
      },
      "source": [
        "# 입력 받기\n",
        "n = int(input())\n",
        "array = []\n",
        "for _ in range(n):\n",
        "    age, name = input().split()\n",
        "    array.append([int(age), name])\n",
        "\n",
        "# 정렬 후 출력하기\n",
        "array.sort(key=lambda x: x[0])\n",
        "for item in array:\n",
        "    print(item[0], item[1])"
      ],
      "execution_count": null,
      "outputs": [
        {
          "output_type": "stream",
          "text": [
            "3\n",
            "21 Junkyu\n",
            "21 Dohyun\n",
            "20 Sunyoung\n",
            "20 Sunyoung\n",
            "21 Junkyu\n",
            "21 Dohyun\n"
          ],
          "name": "stdout"
        }
      ]
    },
    {
      "cell_type": "markdown",
      "metadata": {
        "id": "DCAfnCJ-byd9",
        "colab_type": "text"
      },
      "source": [
        "### <font color = 'green'> 10825. 국영수 (09.07)\n",
        "https://www.acmicpc.net/problem/10825"
      ]
    },
    {
      "cell_type": "code",
      "metadata": {
        "id": "NPgOyIzjGTyu",
        "colab_type": "code",
        "colab": {
          "base_uri": "https://localhost:8080/",
          "height": 467
        },
        "outputId": "e6a1b9ab-4540-4172-f829-d99ccb758aaf"
      },
      "source": [
        "# 입력 받기\n",
        "n = int(input())\n",
        "data = []\n",
        "for _ in range(n):\n",
        "    name, korean, english, math = input().split()\n",
        "    data.append([name, int(korean), int(english), int(math)])\n",
        "\n",
        "# 1. 국어 내림차순\n",
        "# 2. 영어 오름차순\n",
        "# 3. 수학 내림차순\n",
        "# 4. 이름 오름차순\n",
        "data.sort(key=lambda x: (-x[1], x[2], -x[3], x[0])) # 내림차순 정렬시엔 -x[1]를 사용\n",
        "\n",
        "# 학생 이름 출력하기\n",
        "for item in data:\n",
        "    print(item[0])"
      ],
      "execution_count": null,
      "outputs": [
        {
          "output_type": "stream",
          "text": [
            "12\n",
            "Junkyu 50 60 100\n",
            "Sangkeun 80 60 50\n",
            "Sunyoung 80 70 100\n",
            "Soong 50 60 90\n",
            "Haebin 50 60 100\n",
            "Kangsoo 60 80 100\n",
            "Donghyuk 80 60 100\n",
            "Sei 70 70 70\n",
            "Wonseob 70 70 90\n",
            "Sanghyun 70 70 80\n",
            "nsj 80 80 80\n",
            "Taewhan 50 60 90\n",
            "Donghyuk\n",
            "Sangkeun\n",
            "Sunyoung\n",
            "nsj\n",
            "Wonseob\n",
            "Sanghyun\n",
            "Sei\n",
            "Kangsoo\n",
            "Haebin\n",
            "Junkyu\n",
            "Soong\n",
            "Taewhan\n"
          ],
          "name": "stdout"
        }
      ]
    },
    {
      "cell_type": "markdown",
      "metadata": {
        "id": "u017qCZCGT2I",
        "colab_type": "text"
      },
      "source": [
        "### <font color = 'red'> 10989. 수 정렬하기 3 (09.07)\n",
        "https://www.acmicpc.net/problem/10989"
      ]
    },
    {
      "cell_type": "code",
      "metadata": {
        "id": "380g1IUOGT5O",
        "colab_type": "code",
        "colab": {
          "base_uri": "https://localhost:8080/",
          "height": 395
        },
        "outputId": "c1098c56-dc6d-482a-e42f-b6340d76f7dd"
      },
      "source": [
        "\"\"\"메모리 초과 (시간 제한: 3초, 메모리 제한: 8MB)\"\"\"\n",
        "\n",
        "# 입력 받기\n",
        "n = int(input())\n",
        "array = []\n",
        "\n",
        "for _ in range(n):\n",
        "    array.append(int(input()))\n",
        "array.sort()\n",
        "\n",
        "for item in array:\n",
        "    print(item)"
      ],
      "execution_count": null,
      "outputs": [
        {
          "output_type": "stream",
          "text": [
            "10\n",
            "5\n",
            "2\n",
            "3\n",
            "1\n",
            "4\n",
            "2\n",
            "3\n",
            "5\n",
            "1\n",
            "7\n",
            "1\n",
            "1\n",
            "2\n",
            "2\n",
            "3\n",
            "3\n",
            "4\n",
            "5\n",
            "5\n",
            "7\n"
          ],
          "name": "stdout"
        }
      ]
    },
    {
      "cell_type": "code",
      "metadata": {
        "id": "pMTyawxGJRFY",
        "colab_type": "code",
        "colab": {
          "base_uri": "https://localhost:8080/",
          "height": 35
        },
        "outputId": "a04419b0-c4bf-4b9c-d7b6-cdf9daf45b0f"
      },
      "source": [
        "\"\"\"\n",
        "sys.stdin.readline으로 입력 받고\n",
        "array에 개수를 저장해서 출력한다.\n",
        "Python 3로는 통과, PyPy3로는 메모리 초과 발생\n",
        "\"\"\"\n",
        "\n",
        "import sys\n",
        "n = int(input())\n",
        "array = [0 for _ in range(10001)]\n",
        "\n",
        "for _ in range(n):\n",
        "    array[int(sys.stdin.readline())] += 1\n",
        "\n",
        "for i in range(10001):\n",
        "    if array[i] != 0:\n",
        "        for _ in range(array[i]):\n",
        "            print(i)"
      ],
      "execution_count": null,
      "outputs": [
        {
          "output_type": "execute_result",
          "data": {
            "text/plain": [
              "20000.0"
            ]
          },
          "metadata": {
            "tags": []
          },
          "execution_count": 3
        }
      ]
    },
    {
      "cell_type": "markdown",
      "metadata": {
        "id": "-03F1Cy9JRIZ",
        "colab_type": "text"
      },
      "source": [
        "### <font color = 'orange'> 11652. 카드 (09.07)\n",
        "https://www.acmicpc.net/problem/11652"
      ]
    },
    {
      "cell_type": "code",
      "metadata": {
        "id": "2xQleZhIbygl",
        "colab_type": "code",
        "colab": {
          "base_uri": "https://localhost:8080/",
          "height": 161
        },
        "outputId": "59ba5815-ce69-47a5-f81e-6a4d009c703a"
      },
      "source": [
        "\"\"\"\n",
        "아이디어는 맞았지만 코딩 과정에서 오류가 몇번 있었다.\n",
        "그리고 코드도 깔끔하지 않다고 느껴진다.\n",
        "\n",
        "1. from collections import Counter - 캐글하면서 몇번 봤던 라이브러린데 간단하다.\n",
        "2. 딕셔너리로 저장을 하고 정렬을 item 기준으로 한다 (key=lambda x: (-x[1], x[0])) - 가장 적합한 풀이 같다.\n",
        "\"\"\"\n",
        "\n",
        "# 입력 받기\n",
        "import sys\n",
        "n = int(input())\n",
        "dic = {}\n",
        "\n",
        "# 입력 받으면서 딕셔너리의 key에 저장하고 value에는 중복된 횟수를 저장한다.\n",
        "for _ in range(n):\n",
        "    num = int(input())\n",
        "    if num in dic.keys():\n",
        "        dic[num] += 1\n",
        "    else:\n",
        "        dic[num] = 1\n",
        "\n",
        "count = 0\n",
        "result = 2**62+1\n",
        "for item in dic.items():\n",
        "    if item[1] > count: # 카드 장수가 더 클 경우\n",
        "        count = item[1]\n",
        "        result = item[0]\n",
        "    elif item[1] == count and result > item[0]:\n",
        "        result = item[0]\n",
        "\n",
        "print(result)"
      ],
      "execution_count": null,
      "outputs": [
        {
          "output_type": "stream",
          "text": [
            "6\n",
            "2\n",
            "1\n",
            "2\n",
            "1\n",
            "2\n",
            "1\n",
            "1\n"
          ],
          "name": "stdout"
        }
      ]
    },
    {
      "cell_type": "markdown",
      "metadata": {
        "id": "igrYdi_EPY_v",
        "colab_type": "text"
      },
      "source": [
        "### <font color = 'green'> 11004. K번째 수 (09.08)\n",
        "https://www.acmicpc.net/problem/11004"
      ]
    },
    {
      "cell_type": "code",
      "metadata": {
        "id": "Zj8RNLG3aG_6",
        "colab_type": "code",
        "colab": {
          "base_uri": "https://localhost:8080/",
          "height": 70
        },
        "outputId": "671018e7-1b71-4034-871c-f05f58e53f19"
      },
      "source": [
        "\"\"\"\n",
        "1 <= N <= 5,000,000, 1 <= K <= N, -10^9 <= A_i <= 10^9\n",
        "범위가 매우 넓기 때문에 일일이 받아서 정렬하는 것은 메모리 초과 날듯 하다.\n",
        "메모리 초과될 줄 알았는데 맞았네..?\n",
        "\"\"\"\n",
        "\n",
        "# 입력 받기\n",
        "import sys\n",
        "n, k = map(int, input().split())\n",
        "data = list(map(int, sys.stdin.readline().split()))\n",
        "\n",
        "data.sort()\n",
        "print(data[k-1])"
      ],
      "execution_count": null,
      "outputs": [
        {
          "output_type": "stream",
          "text": [
            "5 2\n",
            "4 1 2 3 5\n",
            "2\n"
          ],
          "name": "stdout"
        }
      ]
    },
    {
      "cell_type": "markdown",
      "metadata": {
        "id": "zoMoLpWJLnAk",
        "colab_type": "text"
      },
      "source": [
        "## 스택"
      ]
    },
    {
      "cell_type": "markdown",
      "metadata": {
        "id": "ig1YT2DCBF5s",
        "colab_type": "text"
      },
      "source": [
        "### <font color = 'green'> 10828. 스택 (09.08)\n",
        "https://www.acmicpc.net/problem/10828"
      ]
    },
    {
      "cell_type": "code",
      "metadata": {
        "id": "XplU_ZEpBF-H",
        "colab_type": "code",
        "colab": {
          "base_uri": "https://localhost:8080/",
          "height": 263
        },
        "outputId": "91e9434c-101b-4e57-97e3-ea3000c78a8a"
      },
      "source": [
        "\"\"\"\n",
        "각 연산마다 수행\n",
        "시간 제한 문제? -> input()일 때는 시간초과, sys.stdin.readline 사용하니 해결\n",
        "\"\"\"\n",
        "import sys\n",
        "n = int(sys.stdin.readline())\n",
        "\n",
        "stack = []\n",
        "for _ in range(n):\n",
        "    data = sys.stdin.readline().split()\n",
        "    if data[0] == 'push':\n",
        "        stack.append(int(data[1]))\n",
        "    if data[0] == 'pop':\n",
        "        if len(stack) != 0:\n",
        "            print(stack.pop())\n",
        "        else:\n",
        "            print(-1)\n",
        "    if data[0] == 'size':\n",
        "        print(len(stack))\n",
        "    if data[0] == 'empty':\n",
        "        if len(stack) == 0:\n",
        "            print(1)\n",
        "        else:\n",
        "            print(0)\n",
        "    if data[0] == 'top':\n",
        "        if len(stack) != 0:\n",
        "            print(stack[-1])\n",
        "        else:\n",
        "            print(-1)"
      ],
      "execution_count": null,
      "outputs": [
        {
          "output_type": "stream",
          "text": [
            "7\n",
            "pop\n",
            "-1\n",
            "top\n",
            "-1\n",
            "push 123\n",
            "top\n",
            "123\n",
            "pop\n",
            "123\n",
            "top\n",
            "-1\n",
            "pop\n",
            "-1\n"
          ],
          "name": "stdout"
        }
      ]
    },
    {
      "cell_type": "markdown",
      "metadata": {
        "id": "ZjTcMw7OFPaq",
        "colab_type": "text"
      },
      "source": [
        "### <font color = 'orange'> 9012. 괄호 (09.08)\n",
        "https://www.acmicpc.net/problem/9012"
      ]
    },
    {
      "cell_type": "code",
      "metadata": {
        "id": "QOpB6JYwFPk2",
        "colab_type": "code",
        "colab": {
          "base_uri": "https://localhost:8080/",
          "height": 246
        },
        "outputId": "6711fbc7-ceb9-4a26-e4fb-67711fcb2224"
      },
      "source": [
        "\"\"\"\n",
        "스택을 만들고 '('는 스택에 push,\n",
        "')'일 때는 스택에서 pop한다.\n",
        "pop을 할 수 없을 경우 VPS 만족을 안하는 경우\n",
        "--------\n",
        "다른 사람들의 코드를 보니 그냥 count로 하는 경우도 있고,\n",
        "스택을 만들지 않고 바로 리스트에 append, pop 하는 경우도 있다.\n",
        "\n",
        "\"\"\"\n",
        "\n",
        "# 스택 정의\n",
        "class Stack:\n",
        "    def __init__(self):\n",
        "        self.s = []\n",
        "    \n",
        "    def push(self, item):\n",
        "        self.s.append(item)\n",
        "\n",
        "    def pop(self):\n",
        "        if self.isEmpty() == False:\n",
        "            return self.s.pop()\n",
        "        else:\n",
        "            return False\n",
        "\n",
        "    def isEmpty(self):\n",
        "        if len(self.s) == 0:\n",
        "            return True\n",
        "        else:\n",
        "            return False\n",
        "\n",
        "def vps(x):\n",
        "    stack = Stack()\n",
        "    for i in range(len(x)):\n",
        "        if x[i] == '(':\n",
        "            stack.push(x[i])\n",
        "        else: # ')'가 나왔을 때\n",
        "            if stack.pop() == False:\n",
        "                return False\n",
        "    \n",
        "    # 연산이 끝나고 스택이 비어 있으면 True, 그렇지 않으면 False\n",
        "    if stack.isEmpty():\n",
        "        return True\n",
        "    else:\n",
        "        return False\n",
        "\n",
        "# 입력 받기\n",
        "t = int(input())\n",
        "for _ in range(t):\n",
        "    test = input()\n",
        "    \n",
        "    if vps(test) == True:\n",
        "        print(\"YES\")\n",
        "    else:\n",
        "        print(\"NO\")"
      ],
      "execution_count": null,
      "outputs": [
        {
          "output_type": "stream",
          "text": [
            "6\n",
            "(())())\n",
            "NO\n",
            "(((()())()\n",
            "NO\n",
            "(()())((()))\n",
            "YES\n",
            "()\n",
            "YES\n",
            ")(\n",
            "NO\n",
            "()\n",
            "YES\n"
          ],
          "name": "stdout"
        }
      ]
    },
    {
      "cell_type": "markdown",
      "metadata": {
        "id": "x9NvrQT1YGFz",
        "colab_type": "text"
      },
      "source": [
        "### <font color = ''> 10799. 쇠막대기 (09.08)\n",
        "https://www.acmicpc.net/problem/10799"
      ]
    },
    {
      "cell_type": "code",
      "metadata": {
        "id": "q2DWJKRnQ-NX",
        "colab_type": "code",
        "colab": {}
      },
      "source": [
        "\"\"\"\n",
        "막대 갯수를 구하고 해당 막대마다 레이저 포인트가 몇개 포함되어 있는지 알아야겠다.\n",
        "'('가 스택에 들어있는 갯수만큼 ')'가 나와야한다.\n",
        "\"\"\"\n",
        "\n",
        "data = input() # 괄호 입력 받기\n",
        "stack = []\n",
        "for i in range(len(data)):\n",
        "    laser = 0 # 레이저 포인터 갯수\n",
        "    stick = 0 # 막대 갯수\n",
        "    if data[i] == '(':\n",
        "        stack.append(data[i])\n",
        "        "
      ],
      "execution_count": null,
      "outputs": []
    },
    {
      "cell_type": "markdown",
      "metadata": {
        "id": "38Ia5eS5PwPi",
        "colab_type": "text"
      },
      "source": [
        "## 큐"
      ]
    },
    {
      "cell_type": "markdown",
      "metadata": {
        "id": "DUl4iuy5Q-S4",
        "colab_type": "text"
      },
      "source": [
        "### <font color = 'green'> 10845. 큐 (09.09)\n",
        "https://www.acmicpc.net/problem/10845"
      ]
    },
    {
      "cell_type": "code",
      "metadata": {
        "id": "jWpK9nG2NJCO",
        "colab_type": "code",
        "colab": {
          "base_uri": "https://localhost:8080/",
          "height": 521
        },
        "outputId": "ffb674fe-080e-48fa-c1ee-064acef61f7d"
      },
      "source": [
        "\"\"\"\n",
        "제출 시에는 sys.stdin.readline 사용\n",
        "\"\"\"\n",
        "\n",
        "# 입력 받기\n",
        "import sys\n",
        "n = int(input())\n",
        "\n",
        "queue = []\n",
        "for _ in range(n):\n",
        "    data = input().split()\n",
        "    if data[0] == 'push':\n",
        "        queue.append(int(data[1]))\n",
        "    if data[0] == 'pop':\n",
        "        if len(queue) == 0:\n",
        "            print(-1)\n",
        "        else:\n",
        "            print(queue.pop(0))\n",
        "    if data[0] == 'size':\n",
        "        print(len(queue))\n",
        "    if data[0] == 'empty':\n",
        "        if len(queue) == 0:\n",
        "            print(1)\n",
        "        else:\n",
        "            print(0)\n",
        "    if data[0] == 'front':\n",
        "        if len(queue) == 0:\n",
        "            print(-1)\n",
        "        else:\n",
        "            print(queue[0])\n",
        "    if data[0] == 'back':\n",
        "        if len(queue) == 0:\n",
        "            print(-1)\n",
        "        else:\n",
        "            print(queue[-1])"
      ],
      "execution_count": 3,
      "outputs": [
        {
          "output_type": "stream",
          "text": [
            "15\n",
            "push 1\n",
            "push 2\n",
            "front\n",
            "1\n",
            "back\n",
            "2\n",
            "size\n",
            "2\n",
            "empty\n",
            "0\n",
            "pop\n",
            "1\n",
            "pop\n",
            "2\n",
            "pop\n",
            "-1\n",
            "size\n",
            "0\n",
            "empty\n",
            "1\n",
            "pop\n",
            "-1\n",
            "push 3\n",
            "empty\n",
            "0\n",
            "front\n",
            "3\n"
          ],
          "name": "stdout"
        }
      ]
    },
    {
      "cell_type": "markdown",
      "metadata": {
        "id": "C_d9cuPWNJF1",
        "colab_type": "text"
      },
      "source": [
        "### <font color = 'green'> 10866. 덱 (09.09)\n",
        "https://www.acmicpc.net/problem/10866"
      ]
    },
    {
      "cell_type": "code",
      "metadata": {
        "id": "ZFybe2ImNJJA",
        "colab_type": "code",
        "colab": {}
      },
      "source": [
        "\"\"\"\n",
        "제출시에는 sys.stdin.readline을 사용하면 되고\n",
        "문제 설명대로 차근히 코드를 짜면 된다.\n",
        "\"\"\"\n",
        "\n",
        "# 입력 받기\n",
        "import sys\n",
        "n = int(input())\n",
        "\n",
        "deque = []\n",
        "for _ in range(n):\n",
        "    data = input().split()\n",
        "    if data[0] == 'push_front':\n",
        "        deque.insert(0, int(data[1]))\n",
        "    if data[0] == 'push_back':\n",
        "        deque.append(int(data[1]))\n",
        "    if data[0] == 'pop_front':\n",
        "        if len(deque) == 0:\n",
        "            print(-1)\n",
        "        else:\n",
        "            print(deque.pop(0))\n",
        "    if data[0] == 'pop_back':\n",
        "        if len(deque) == 0:\n",
        "            print(-1)\n",
        "        else:\n",
        "            print(deque.pop())\n",
        "    if data[0] == 'size':\n",
        "        print(len(deque))\n",
        "    if data[0] == 'empty':\n",
        "        if len(deque) == 0:\n",
        "            print(1)\n",
        "        else:\n",
        "            print(0)\n",
        "    if data[0] == 'front':\n",
        "        if len(deque) == 0:\n",
        "            print(-1)\n",
        "        else:\n",
        "            print(deque[0])\n",
        "    if data[0] == 'back':\n",
        "        if len(deque) == 0:\n",
        "            print(-1)\n",
        "        else:\n",
        "            print(deque[-1])"
      ],
      "execution_count": null,
      "outputs": []
    },
    {
      "cell_type": "markdown",
      "metadata": {
        "id": "_bB-2iWvQJ5A",
        "colab_type": "text"
      },
      "source": [
        "### <font color = 'green'> 10808. 알파벳 개수 (09.09)\n",
        "https://www.acmicpc.net/problem/10808"
      ]
    },
    {
      "cell_type": "code",
      "metadata": {
        "id": "r1ehYAYKQJ8J",
        "colab_type": "code",
        "colab": {
          "base_uri": "https://localhost:8080/",
          "height": 53
        },
        "outputId": "67202b42-2cb2-442b-8cfe-b55bd6337542"
      },
      "source": [
        "\"\"\"마지막 글자 공백을 약간 걱정했는데 문제 없이 해결되었다.\"\"\"\n",
        "\n",
        "# 입력 받기\n",
        "s = input()\n",
        "count = [0] * 26 # 알파벳 개수 저장할 리스트\n",
        "\n",
        "for word in s:\n",
        "    idx = ord(word) - ord('a') # 소문자로만 이뤄졌기 때문에 a를 0번으로\n",
        "    count[idx] += 1\n",
        "\n",
        "for i in count:\n",
        "    print(i, end=' ')"
      ],
      "execution_count": 10,
      "outputs": [
        {
          "output_type": "stream",
          "text": [
            "baekjoon\n",
            "1 1 0 0 1 0 0 0 0 1 1 0 0 1 2 0 0 0 0 0 0 0 0 0 0 0 "
          ],
          "name": "stdout"
        }
      ]
    },
    {
      "cell_type": "code",
      "metadata": {
        "id": "p9KBoVU2QKCD",
        "colab_type": "code",
        "colab": {}
      },
      "source": [
        ""
      ],
      "execution_count": null,
      "outputs": []
    },
    {
      "cell_type": "code",
      "metadata": {
        "id": "V9dvB-NRUGoB",
        "colab_type": "code",
        "colab": {}
      },
      "source": [
        ""
      ],
      "execution_count": null,
      "outputs": []
    },
    {
      "cell_type": "code",
      "metadata": {
        "id": "XOV_22APUGr3",
        "colab_type": "code",
        "colab": {}
      },
      "source": [
        ""
      ],
      "execution_count": null,
      "outputs": []
    },
    {
      "cell_type": "code",
      "metadata": {
        "id": "iTlrfSkqNJMJ",
        "colab_type": "code",
        "colab": {}
      },
      "source": [
        ""
      ],
      "execution_count": null,
      "outputs": []
    },
    {
      "cell_type": "code",
      "metadata": {
        "id": "MchpL-cTQ-Wn",
        "colab_type": "code",
        "colab": {}
      },
      "source": [
        ""
      ],
      "execution_count": null,
      "outputs": []
    }
  ]
}