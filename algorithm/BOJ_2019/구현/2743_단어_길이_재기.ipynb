{
  "nbformat": 4,
  "nbformat_minor": 0,
  "metadata": {
    "colab": {
      "name": "2743. 단어 길이 재기.ipynb",
      "provenance": [],
      "collapsed_sections": [],
      "authorship_tag": "ABX9TyPe84aAbxlbBoW/DQmo3QkD",
      "include_colab_link": true
    },
    "kernelspec": {
      "name": "python3",
      "display_name": "Python 3"
    }
  },
  "cells": [
    {
      "cell_type": "markdown",
      "metadata": {
        "id": "view-in-github",
        "colab_type": "text"
      },
      "source": [
        "<a href=\"https://colab.research.google.com/github/choi-yh/BOJ/blob/master/2743_%EB%8B%A8%EC%96%B4_%EA%B8%B8%EC%9D%B4_%EC%9E%AC%EA%B8%B0.ipynb\" target=\"_parent\"><img src=\"https://colab.research.google.com/assets/colab-badge.svg\" alt=\"Open In Colab\"/></a>"
      ]
    },
    {
      "cell_type": "markdown",
      "metadata": {
        "id": "_3a6qRyD-j11",
        "colab_type": "text"
      },
      "source": [
        "### 09.10\n",
        "\n",
        "문제\n",
        "---\n",
        "알파벳으로만 이루어진 단어를 입력받아, 그 길이를 출력하는 프로그램을 작성하시오.\n",
        "\n",
        "입력\n",
        "---\n",
        "첫째 줄에 영어 소문자와 대문자로만 이루어진 단어가 주어진다. 단어의 길이는 최대 100이다.\n",
        "\n",
        "출력\n",
        "---\n",
        "첫째 줄에 입력으로 주어진 단어의 길이를 출력한다."
      ]
    },
    {
      "cell_type": "code",
      "metadata": {
        "id": "DxZuUH_j_KAH",
        "colab_type": "code",
        "colab": {
          "base_uri": "https://localhost:8080/",
          "height": 53
        },
        "outputId": "e89cd39b-9203-4d3a-e710-8cd6ba65f904"
      },
      "source": [
        "s = input()\n",
        "print(len(s))"
      ],
      "execution_count": 1,
      "outputs": [
        {
          "output_type": "stream",
          "text": [
            "pulljima\n",
            "8\n"
          ],
          "name": "stdout"
        }
      ]
    },
    {
      "cell_type": "code",
      "metadata": {
        "id": "vIegckrH_N_2",
        "colab_type": "code",
        "colab": {}
      },
      "source": [
        ""
      ],
      "execution_count": null,
      "outputs": []
    }
  ]
}
