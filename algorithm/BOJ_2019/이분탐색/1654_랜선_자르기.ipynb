{
  "nbformat": 4,
  "nbformat_minor": 0,
  "metadata": {
    "colab": {
      "name": "1654. 랜선 자르기.ipynb",
      "provenance": [],
      "collapsed_sections": [],
      "authorship_tag": "ABX9TyOkwUcV0DCvb1PIyv/rx9LJ",
      "include_colab_link": true
    },
    "kernelspec": {
      "name": "python3",
      "display_name": "Python 3"
    }
  },
  "cells": [
    {
      "cell_type": "markdown",
      "metadata": {
        "id": "view-in-github",
        "colab_type": "text"
      },
      "source": [
        "<a href=\"https://colab.research.google.com/github/choi-yh/BOJ/blob/master/%EC%9D%B4%EB%B6%84%ED%83%90%EC%83%89/1654_%EB%9E%9C%EC%84%A0_%EC%9E%90%EB%A5%B4%EA%B8%B0.ipynb\" target=\"_parent\"><img src=\"https://colab.research.google.com/assets/colab-badge.svg\" alt=\"Open In Colab\"/></a>"
      ]
    },
    {
      "cell_type": "markdown",
      "metadata": {
        "id": "Q1BbA62VoPKR"
      },
      "source": [
        "### 10.20\n",
        "https://www.acmicpc.net/problem/1654\n",
        "\n",
        "문제\n",
        "---\n",
        "집에서 시간을 보내던 오영식은 박성원의 부름을 받고 급히 달려왔다. 박성원이 캠프 때 쓸 N개의 랜선을 만들어야 하는데 너무 바빠서 영식이에게 도움을 청했다.\n",
        "\n",
        "이미 오영식은 자체적으로 K개의 랜선을 가지고 있다. 그러나 K개의 랜선은 길이가 제각각이다. 박성원은 랜선을 모두 N개의 같은 길이의 랜선으로 만들고 싶었기 때문에 K개의 랜선을 잘라서 만들어야 한다. 예를 들어 300cm 짜리 랜선에서 140cm 짜리 랜선을 두 개 잘라내면 20cm는 버려야 한다. (이미 자른 랜선은 붙일 수 없다.)\n",
        "\n",
        "편의를 위해 랜선을 자르거나 만들 때 손실되는 길이는 없다고 가정하며, 기존의 K개의 랜선으로 N개의 랜선을 만들 수 없는 경우는 없다고 가정하자. 그리고 자를 때는 항상 센티미터 단위로 정수길이만큼 자른다고 가정하자. N개보다 많이 만드는 것도 N개를 만드는 것에 포함된다. 이때 만들 수 있는 최대 랜선의 길이를 구하는 프로그램을 작성하시오.\n",
        "\n",
        "입력\n",
        "---\n",
        "첫째 줄에는 오영식이 이미 가지고 있는 랜선의 개수 K, 그리고 필요한 랜선의 개수 N이 입력된다. K는 1이상 10,000이하의 정수이고, N은 1이상 1,000,000이하의 정수이다. 그리고 항상 K ≦ N 이다. 그 후 K줄에 걸쳐 이미 가지고 있는 각 랜선의 길이가 센티미터 단위의 정수로 입력된다. 랜선의 길이는 231-1보다 작거나 같은 자연수이다.\n",
        "\n",
        "출력\n",
        "---\n",
        "첫째 줄에 N개를 만들 수 있는 랜선의 최대 길이를 센티미터 단위의 정수로 출력한다."
      ]
    },
    {
      "cell_type": "code",
      "metadata": {
        "id": "8FTDq16eoWCi",
        "outputId": "31b730b0-5ad7-42f9-e624-d75ec6877ea4",
        "colab": {
          "base_uri": "https://localhost:8080/",
          "height": 71
        }
      },
      "source": [
        "\"\"\"\n",
        "늘려가는 기준을 어떻게 잡을거냐 -> 이분탐색\n",
        "이분탐색 과정에서 break를 통해 멈추거나 result = max(mid, result) 등의 방식을 적용했는데 틀렸다.\n",
        "result = mid를 하고 어차피 최대치에 도달하면 end = mid-1을 통해 줄어들기만 하다가 while 문을 빠져나오기 때문에 다른 조건을 추가할 필요가 없다.\n",
        "\"\"\"\n",
        "\n",
        "k, n = map(int, input().split())\n",
        "lan = []\n",
        "\n",
        "for _ in range(k):\n",
        "    lan.append(int(input()))\n",
        "\n",
        "\n",
        "start = 1\n",
        "end = max(lan)\n",
        "result = 0\n",
        "\n",
        "while start <= end:\n",
        "    mid = (start + end) // 2 # 자르는 랜선의 길이\n",
        "    summ = 0 # 현재 길이로 만들 수 있는 랜선의 갯수\n",
        "    for i in lan:\n",
        "        summ += i // mid\n",
        "\n",
        "    if summ >= n:\n",
        "        result = mid\n",
        "        start = mid + 1\n",
        "    else: # 갯수가 모자랄 때는 자르는 랜선 길이를 줄인다.\n",
        "        end = mid - 1\n",
        "\n",
        "print(result)"
      ],
      "execution_count": 55,
      "outputs": [
        {
          "output_type": "stream",
          "text": [
            "1 10\n",
            "99\n",
            "9\n"
          ],
          "name": "stdout"
        }
      ]
    },
    {
      "cell_type": "code",
      "metadata": {
        "id": "cc_q_zriTLkb"
      },
      "source": [
        ""
      ],
      "execution_count": null,
      "outputs": []
    }
  ]
}