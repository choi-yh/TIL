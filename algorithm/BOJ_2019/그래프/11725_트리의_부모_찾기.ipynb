{
  "nbformat": 4,
  "nbformat_minor": 0,
  "metadata": {
    "colab": {
      "name": "11725. 트리의 부모 찾기.ipynb",
      "provenance": [],
      "collapsed_sections": [],
      "authorship_tag": "ABX9TyNzu87cmXcyzdXZ3PK7UNqu",
      "include_colab_link": true
    },
    "kernelspec": {
      "name": "python3",
      "display_name": "Python 3"
    }
  },
  "cells": [
    {
      "cell_type": "markdown",
      "metadata": {
        "id": "view-in-github",
        "colab_type": "text"
      },
      "source": [
        "<a href=\"https://colab.research.google.com/github/choi-yh/BOJ/blob/master/%EA%B7%B8%EB%9E%98%ED%94%84/11725_%ED%8A%B8%EB%A6%AC%EC%9D%98_%EB%B6%80%EB%AA%A8_%EC%B0%BE%EA%B8%B0.ipynb\" target=\"_parent\"><img src=\"https://colab.research.google.com/assets/colab-badge.svg\" alt=\"Open In Colab\"/></a>"
      ]
    },
    {
      "cell_type": "markdown",
      "metadata": {
        "id": "HszLa7PhqcnF"
      },
      "source": [
        "### 10.12\n",
        "https://www.acmicpc.net/problem/11725\n",
        "\n",
        "문제\n",
        "---\n",
        "루트 없는 트리가 주어진다. 이때, 트리의 루트를 1이라고 정했을 때, 각 노드의 부모를 구하는 프로그램을 작성하시오.\n",
        "\n",
        "입력\n",
        "---\n",
        "첫째 줄에 노드의 개수 N (2 ≤ N ≤ 100,000)이 주어진다. 둘째 줄부터 N-1개의 줄에 트리 상에서 연결된 두 정점이 주어진다.\n",
        "\n",
        "출력\n",
        "---\n",
        "첫째 줄부터 N-1개의 줄에 각 노드의 부모 노드 번호를 2번 노드부터 순서대로 출력한다."
      ]
    },
    {
      "cell_type": "code",
      "metadata": {
        "id": "wLRoyeZHqllY",
        "outputId": "4390f341-95ee-4197-cf53-94be9669912e",
        "colab": {
          "base_uri": "https://localhost:8080/",
          "height": 422
        }
      },
      "source": [
        "n = int(input())\n",
        "graph = [[] for _ in range(n+1)] # 인덱싱 편의를 위해 0번 추가\n",
        "for _ in range(n-1):\n",
        "    node1, node2 = map(int, input().split())\n",
        "    graph[node1].append(node2)\n",
        "    graph[node2].append(node1)\n",
        "\n",
        "parents = [0 for _ in range(n+1)]\n",
        "\n",
        "def dfs(start, graph, parents):\n",
        "    for i in graph[start]:\n",
        "        if parents[i] == 0:\n",
        "            parents[i] = start\n",
        "            dfs(i, graph, parents)\n",
        "\n",
        "dfs(1, graph, parents)\n",
        "\n",
        "for i in range(2, n+1):\n",
        "    print(parents[i])"
      ],
      "execution_count": 29,
      "outputs": [
        {
          "output_type": "stream",
          "text": [
            "12\n",
            "1 2\n",
            "1 3\n",
            "2 4\n",
            "3 5\n",
            "3 6\n",
            "4 7\n",
            "4 8\n",
            "5 9\n",
            "5 10\n",
            "6 11\n",
            "6 12\n",
            "1\n",
            "1\n",
            "2\n",
            "3\n",
            "3\n",
            "4\n",
            "4\n",
            "5\n",
            "5\n",
            "6\n",
            "6\n"
          ],
          "name": "stdout"
        }
      ]
    },
    {
      "cell_type": "code",
      "metadata": {
        "id": "-ydl0W5NGS81"
      },
      "source": [
        ""
      ],
      "execution_count": null,
      "outputs": []
    }
  ]
}