{
  "nbformat": 4,
  "nbformat_minor": 0,
  "metadata": {
    "colab": {
      "name": "4963. 섬의 개수.ipynb",
      "provenance": [],
      "collapsed_sections": [],
      "authorship_tag": "ABX9TyP+oMMpFVGA/Cebu7fomH6P",
      "include_colab_link": true
    },
    "kernelspec": {
      "name": "python3",
      "display_name": "Python 3"
    }
  },
  "cells": [
    {
      "cell_type": "markdown",
      "metadata": {
        "id": "view-in-github",
        "colab_type": "text"
      },
      "source": [
        "<a href=\"https://colab.research.google.com/github/choi-yh/BOJ/blob/master/%EA%B7%B8%EB%9E%98%ED%94%84/4963_%EC%84%AC%EC%9D%98_%EA%B0%9C%EC%88%98.ipynb\" target=\"_parent\"><img src=\"https://colab.research.google.com/assets/colab-badge.svg\" alt=\"Open In Colab\"/></a>"
      ]
    },
    {
      "cell_type": "markdown",
      "metadata": {
        "id": "6mr7HE_KrhVQ"
      },
      "source": [
        "### 10.07\n",
        "https://www.acmicpc.net/problem/4963\n",
        "\n",
        "문제\n",
        "---\n",
        "정사각형으로 이루어져 있는 섬과 바다 지도가 주어진다. 섬의 개수를 세는 프로그램을 작성하시오.\n",
        "\n",
        "![image.png](data:image/png;base64,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)\n",
        "\n",
        "한 정사각형과 가로, 세로 또는 대각선으로 연결되어 있는 사각형은 걸어갈 수 있는 사각형이다. \n",
        "\n",
        "두 정사각형이 같은 섬에 있으려면, 한 정사각형에서 다른 정사각형으로 걸어서 갈 수 있는 경로가 있어야 한다. 지도는 바다로 둘러싸여 있으며, 지도 밖으로 나갈 수 없다.\n",
        "\n",
        "입력\n",
        "---\n",
        "입력은 여러 개의 테스트 케이스로 이루어져 있다. 각 테스트 케이스의 첫째 줄에는 지도의 너비 w와 높이 h가 주어진다. w와 h는 50보다 작거나 같은 양의 정수이다.\n",
        "\n",
        "둘째 줄부터 h개 줄에는 지도가 주어진다. 1은 땅, 0은 바다이다.\n",
        "\n",
        "입력의 마지막 줄에는 0이 두 개 주어진다.\n",
        "\n",
        "출력\n",
        "---\n",
        "각 테스트 케이스에 대해서, 섬의 개수를 출력한다."
      ]
    },
    {
      "cell_type": "code",
      "metadata": {
        "id": "vacrfBnFrp6o",
        "outputId": "721256e6-6cb1-4722-e325-3976ae5a4581",
        "colab": {
          "base_uri": "https://localhost:8080/",
          "height": 575
        }
      },
      "source": [
        "\"\"\"\n",
        "대각선 방향 이동을 생각해서 bfs를 적용하면 될 것 같다.\n",
        "제출시 메모리가 초과하여 bfs 과정에서 큐에 추가할 때 큐에 있는지 확인한 뒤 삽입하였다.\n",
        "\"\"\"\n",
        "from collections import deque\n",
        "\n",
        "def bfs(x, y):\n",
        "        queue = deque()\n",
        "        queue.append((x, y))\n",
        "\n",
        "        # 대각선 이동을 포함하여 8가지 방향으로 이동\n",
        "        # 좌 우 상 하 좌상 우상 우하 좌하\n",
        "        dx = [-1, 1, 0, 0, -1, 1, -1, 1]\n",
        "        dy = [0, 0, -1, 1, -1, -1, 1, 1]\n",
        "\n",
        "        while queue:\n",
        "            x, y = queue.popleft()\n",
        "            data[x][y] = 0 # 방문한 곳은 0으로 처리\n",
        "\n",
        "            for i in range(8): # 8가지 방향의 경우에 대해서 수행\n",
        "                nx = x + dx[i]\n",
        "                ny = y + dy[i]\n",
        "\n",
        "                if nx < 0 or ny < 0 or nx >= h or ny >= w: # h, w 주의\n",
        "                    continue\n",
        "                \n",
        "                # 이동할 수 있다면 큐에 삽입\n",
        "                # 메모리 초과 방지를 위해 해당 위치가 이미 큐에 들어가있는지 확인\n",
        "                if (data[nx][ny] == 1) and ((nx, ny) not in queue): \n",
        "                    queue.append((nx, ny))\n",
        "\n",
        "# 예제 시행\n",
        "while True:\n",
        "    w, h = map(int, input().split())\n",
        "    if (w, h) == (0, 0):\n",
        "        break\n",
        "\n",
        "    data = []\n",
        "    for _ in range(h):\n",
        "        data.append(list(map(int, input().split())))\n",
        "\n",
        "    result = 0\n",
        "    for i in range(h): # h, w 주의\n",
        "        for j in range(w):\n",
        "            if data[i][j] == 1:\n",
        "                bfs(i, j)\n",
        "                result += 1\n",
        "\n",
        "    print(result)"
      ],
      "execution_count": 22,
      "outputs": [
        {
          "output_type": "stream",
          "text": [
            "1 1\n",
            "0\n",
            "0\n",
            "2 2\n",
            "0 1\n",
            "1 0\n",
            "1\n",
            "3 2\n",
            "1 1 1\n",
            "1 1 1\n",
            "1\n",
            "5 4\n",
            "1 0 1 0 0\n",
            "1 0 0 0 0\n",
            "1 0 1 0 1\n",
            "1 0 0 1 0\n",
            "3\n",
            "5 4\n",
            "1 1 1 0 1\n",
            "1 0 1 0 1\n",
            "1 0 1 0 1\n",
            "1 0 1 1 1\n",
            "1\n",
            "5 5\n",
            "1 0 1 0 1\n",
            "0 0 0 0 0\n",
            "1 0 1 0 1\n",
            "0 0 0 0 0\n",
            "1 0 1 0 1\n",
            "9\n",
            "0 0\n"
          ],
          "name": "stdout"
        }
      ]
    },
    {
      "cell_type": "code",
      "metadata": {
        "id": "q9rK4XKEw669"
      },
      "source": [
        ""
      ],
      "execution_count": null,
      "outputs": []
    }
  ]
}