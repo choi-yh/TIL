{
  "nbformat": 4,
  "nbformat_minor": 0,
  "metadata": {
    "colab": {
      "name": "10451. 순열 사이클.ipynb",
      "provenance": [],
      "collapsed_sections": [],
      "authorship_tag": "ABX9TyPMuhBT297FZV0uoKJfLVHV",
      "include_colab_link": true
    },
    "kernelspec": {
      "name": "python3",
      "display_name": "Python 3"
    }
  },
  "cells": [
    {
      "cell_type": "markdown",
      "metadata": {
        "id": "view-in-github",
        "colab_type": "text"
      },
      "source": [
        "<a href=\"https://colab.research.google.com/github/choi-yh/BOJ/blob/master/%EA%B7%B8%EB%9E%98%ED%94%84/10451_%EC%88%9C%EC%97%B4_%EC%82%AC%EC%9D%B4%ED%81%B4.ipynb\" target=\"_parent\"><img src=\"https://colab.research.google.com/assets/colab-badge.svg\" alt=\"Open In Colab\"/></a>"
      ]
    },
    {
      "cell_type": "markdown",
      "metadata": {
        "id": "hkywdjJtJd0C"
      },
      "source": [
        "### 10.05\n",
        "https://www.acmicpc.net/problem/10451\n",
        "\n",
        "\n",
        "문제\n",
        "---\n",
        "1부터 N까지 정수 N개로 이루어진 순열을 나타내는 방법은 여러 가지가 있다. 예를 들어, 8개의 수로 이루어진 순열 (3, 2, 7, 8, 1, 4, 5, 6)을 배열을 이용해 표현하면  와 같다. 또는, Figure 1과 같이 방향 그래프로 나타낼 수도 있다.\n",
        "\n",
        "순열을 배열을 이용해  로 나타냈다면, i에서 πi로 간선을 이어 그래프로 만들 수 있다.\n",
        "\n",
        "Figure 1에 나와있는 것 처럼, 순열 그래프 (3, 2, 7, 8, 1, 4, 5, 6) 에는 총 3개의 사이클이 있다. 이러한 사이클을 \"순열 사이클\" 이라고 한다.\n",
        "\n",
        "N개의 정수로 이루어진 순열이 주어졌을 때, 순열 사이클의 개수를 구하는 프로그램을 작성하시오.\n",
        "\n",
        "입력\n",
        "---\n",
        "첫째 줄에 테스트 케이스의 개수 T가 주어진다. 각 테스트 케이스의 첫째 줄에는 순열의 크기 N (2 ≤ N ≤ 1,000)이 주어진다. 둘째 줄에는 순열이 주어지며, 각 정수는 공백으로 구분되어 있다.\n",
        "\n",
        "출력\n",
        "---\n",
        "각 테스트 케이스마다, 입력으로 주어진 순열에 존재하는 순열 사이클의 개수를 출력한다.\n",
        "\n"
      ]
    },
    {
      "cell_type": "code",
      "metadata": {
        "id": "BrNt7Y4-JsG8",
        "outputId": "593ebc9a-9b59-436d-a6b8-6880a4e60159",
        "colab": {
          "base_uri": "https://localhost:8080/",
          "height": 140
        }
      },
      "source": [
        "\"\"\"\n",
        "순열에서 해당 노드와 연결되어 있는 노드로 이동하면서 사이클 리스트에 넣어주면 된다.\n",
        "사이클 리스트에 넣어줄 때, 방문한 노드인지 확인하면서 이동한다.\n",
        "\"\"\"\n",
        "\n",
        "t = int(input()) # 테스트 케이스\n",
        "\n",
        "for _ in range(t):\n",
        "    size = int(input()) # 순열 크기\n",
        "    permutation = list(map(int, input().split())) # 순열\n",
        "    permutation.insert(0, 0) # 인덱싱을 위해 맨 앞에 0 삽입\n",
        "\n",
        "    cycles = [] # 전체 사이클을 기록할 리스트\n",
        "    check = [False] * len(permutation) # 방문한 노드인지 확인\n",
        "    for i in range(1, len(permutation)): # 전체 사이클을 확인 해야 한다.\n",
        "        if check[i] == False: # 방문하지 않은 노드일 경우\n",
        "            # 사이클을 생성하고\n",
        "            cycle = []\n",
        "            tmp = permutation[i] # 인접한 노드로 이동한다.\n",
        "            while check[tmp] == False: # 방문하지 않았을 경우 해당 사이클에 삽입\n",
        "                # 삽입 후 방문 처리를 하는 과정\n",
        "                cycle.append(tmp)\n",
        "                check[tmp] = True\n",
        "                tmp = permutation[tmp]\n",
        "            # 사이클 확인이 끝나면 해당 사이클을 전체 사이클 리스트에 넣는다.\n",
        "            cycles.append(cycle)\n",
        "\n",
        "    print(len(cycles))"
      ],
      "execution_count": 12,
      "outputs": [
        {
          "output_type": "stream",
          "text": [
            "2\n",
            "8\n",
            "3 2 7 8 1 4 5 6\n",
            "3\n",
            "10\n",
            "2 1 3 4 5 6 7 9 10 8\n",
            "7\n"
          ],
          "name": "stdout"
        }
      ]
    },
    {
      "cell_type": "code",
      "metadata": {
        "id": "OsyTTQSHONw-"
      },
      "source": [
        ""
      ],
      "execution_count": null,
      "outputs": []
    }
  ]
}