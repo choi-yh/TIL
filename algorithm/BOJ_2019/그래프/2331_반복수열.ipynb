{
  "nbformat": 4,
  "nbformat_minor": 0,
  "metadata": {
    "colab": {
      "name": "2331. 반복수열.ipynb",
      "provenance": [],
      "authorship_tag": "ABX9TyOgm1O3iNO3mp0NTc36rDy9",
      "include_colab_link": true
    },
    "kernelspec": {
      "name": "python3",
      "display_name": "Python 3"
    }
  },
  "cells": [
    {
      "cell_type": "markdown",
      "metadata": {
        "id": "view-in-github",
        "colab_type": "text"
      },
      "source": [
        "<a href=\"https://colab.research.google.com/github/choi-yh/BOJ/blob/master/%EA%B7%B8%EB%9E%98%ED%94%84/2331_%EB%B0%98%EB%B3%B5%EC%88%98%EC%97%B4.ipynb\" target=\"_parent\"><img src=\"https://colab.research.google.com/assets/colab-badge.svg\" alt=\"Open In Colab\"/></a>"
      ]
    },
    {
      "cell_type": "markdown",
      "metadata": {
        "id": "sqRZpEntQqiG"
      },
      "source": [
        "### 10.05\n",
        "https://www.acmicpc.net/problem/2331\n",
        "\n",
        "문제\n",
        "---\n",
        "다음과 같이 정의된 수열이 있다.\n",
        "\n",
        "D[1] = A\n",
        "D[n] = D[n-1]의 각 자리의 숫자를 P번 곱한 수들의 합\n",
        "예를 들어 A=57, P=2일 때, 수열 D는 {57, 74(=5^2+7^2=25+49), 65, 61, 37, 58, 89, 145, 42, 20, 4, 16, 37, …}이 된다. 그 뒤에는 앞서 나온 수들(57부터가 아니라 58부터)이 반복된다.\n",
        "\n",
        "이와 같은 수열을 계속 구하다 보면 언젠가 이와 같은 반복수열이 된다. 이때, 반복되는 부분을 제외했을 때, 수열에 남게 되는 수들의 개수를 구하는 프로그램을 작성하시오. 위의 예에서는 {57, 74, 65, 61}의 네 개의 수가 남게 된다.\n",
        "\n",
        "입력\n",
        "---\n",
        "첫째 줄에 A(1 ≤ A ≤ 9999), P(1 ≤ P ≤ 5)가 주어진다.\n",
        "\n",
        "출력\n",
        "---\n",
        "첫째 줄에 반복되는 부분을 제외했을 때, 수열에 남게 되는 수들의 개수를 출력한다."
      ]
    },
    {
      "cell_type": "code",
      "metadata": {
        "id": "SXeLAKuIRL9z",
        "outputId": "55d25ff4-23aa-4fe5-df8d-648d1a54839f",
        "colab": {
          "base_uri": "https://localhost:8080/",
          "height": 52
        }
      },
      "source": [
        "a, p = map(int, input().split())\n",
        "\n",
        "# D[n] 계산\n",
        "def compute(n, p):\n",
        "    sum = 0\n",
        "    for i in str(n):\n",
        "        sum += int(i) ** p\n",
        "    return sum\n",
        "\n",
        "seq = [a] # 수열 리스트\n",
        "# 반복되는 수가 나올때까지 연산을 계속 하다가 반복되는 수가 나올 때 반복문을 종료\n",
        "while True:\n",
        "    summ = compute(seq[-1], p)\n",
        "    if summ in seq:\n",
        "        break\n",
        "    seq.append(summ)\n",
        "\n",
        "idx = seq.index(summ) # 반복 수열 처음 수 인덱스 반환\n",
        "seq = seq[:idx] # 반복되는 부분 삭제\n",
        "print(len(seq))"
      ],
      "execution_count": 5,
      "outputs": [
        {
          "output_type": "stream",
          "text": [
            "57 2\n",
            "4\n"
          ],
          "name": "stdout"
        }
      ]
    },
    {
      "cell_type": "code",
      "metadata": {
        "id": "Tesisl1-WR5V",
        "outputId": "2ee15347-4b0f-45f8-a9aa-02761ffce27d",
        "colab": {
          "base_uri": "https://localhost:8080/",
          "height": 34
        }
      },
      "source": [
        "s = [1, 2, 1]\n",
        "s.index(1)"
      ],
      "execution_count": 4,
      "outputs": [
        {
          "output_type": "execute_result",
          "data": {
            "text/plain": [
              "0"
            ]
          },
          "metadata": {
            "tags": []
          },
          "execution_count": 4
        }
      ]
    },
    {
      "cell_type": "code",
      "metadata": {
        "id": "m2eYuDJRVcSr",
        "outputId": "cf222a17-91cd-40a9-fcba-ac2b2b4f4cdc",
        "colab": {
          "base_uri": "https://localhost:8080/",
          "height": 34
        }
      },
      "source": [
        "seq"
      ],
      "execution_count": 3,
      "outputs": [
        {
          "output_type": "execute_result",
          "data": {
            "text/plain": [
              "[57, 74, 65, 61, 37, 58, 89, 145, 42, 20, 4, 16]"
            ]
          },
          "metadata": {
            "tags": []
          },
          "execution_count": 3
        }
      ]
    },
    {
      "cell_type": "code",
      "metadata": {
        "id": "cGaTOP8JUnnM",
        "outputId": "82e71a95-7d33-4265-b324-397ee3894ff9",
        "colab": {
          "base_uri": "https://localhost:8080/",
          "height": 34
        }
      },
      "source": [
        "def compute(n, p):\n",
        "    sum = 0\n",
        "    for i in str(n):\n",
        "        sum += int(i)**p\n",
        "    return sum\n",
        "\n",
        "compute(57, 2)"
      ],
      "execution_count": 1,
      "outputs": [
        {
          "output_type": "execute_result",
          "data": {
            "text/plain": [
              "74"
            ]
          },
          "metadata": {
            "tags": []
          },
          "execution_count": 1
        }
      ]
    },
    {
      "cell_type": "code",
      "metadata": {
        "id": "39sQ2rAgU0Sy"
      },
      "source": [
        ""
      ],
      "execution_count": null,
      "outputs": []
    }
  ]
}