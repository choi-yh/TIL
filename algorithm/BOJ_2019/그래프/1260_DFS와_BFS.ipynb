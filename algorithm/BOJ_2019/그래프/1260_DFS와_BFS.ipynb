{
  "nbformat": 4,
  "nbformat_minor": 0,
  "metadata": {
    "colab": {
      "name": "1260. DFS와 BFS.ipynb",
      "provenance": [],
      "collapsed_sections": [],
      "authorship_tag": "ABX9TyPBmM27gkDssUd4+bk2Qs2V",
      "include_colab_link": true
    },
    "kernelspec": {
      "name": "python3",
      "display_name": "Python 3"
    }
  },
  "cells": [
    {
      "cell_type": "markdown",
      "metadata": {
        "id": "view-in-github",
        "colab_type": "text"
      },
      "source": [
        "<a href=\"https://colab.research.google.com/github/choi-yh/BOJ/blob/master/%EA%B7%B8%EB%9E%98%ED%94%84/1260_DFS%EC%99%80_BFS.ipynb\" target=\"_parent\"><img src=\"https://colab.research.google.com/assets/colab-badge.svg\" alt=\"Open In Colab\"/></a>"
      ]
    },
    {
      "cell_type": "markdown",
      "metadata": {
        "id": "etCb87xuP89V",
        "colab_type": "text"
      },
      "source": [
        "### 09.20\n",
        "https://www.acmicpc.net/problem/1260\n",
        "\n",
        "문제\n",
        "---\n",
        "그래프를 DFS로 탐색한 결과와 BFS로 탐색한 결과를 출력하는 프로그램을 작성하시오. 단, 방문할 수 있는 정점이 여러 개인 경우에는 정점 번호가 작은 것을 먼저 방문하고, 더 이상 방문할 수 있는 점이 없는 경우 종료한다. 정점 번호는 1번부터 N번까지이다.\n",
        "\n",
        "입력\n",
        "---\n",
        "첫째 줄에 정점의 개수 N(1 ≤ N ≤ 1,000), 간선의 개수 M(1 ≤ M ≤ 10,000), 탐색을 시작할 정점의 번호 V가 주어진다. 다음 M개의 줄에는 간선이 연결하는 두 정점의 번호가 주어진다. 어떤 두 정점 사이에 여러 개의 간선이 있을 수 있다. 입력으로 주어지는 간선은 양방향이다.\n",
        "\n",
        "출력\n",
        "---\n",
        "첫째 줄에 DFS를 수행한 결과를, 그 다음 줄에는 BFS를 수행한 결과를 출력한다. V부터 방문된 점을 순서대로 출력하면 된다."
      ]
    },
    {
      "cell_type": "code",
      "metadata": {
        "id": "DqmGHY0lQETQ",
        "colab_type": "code",
        "colab": {
          "base_uri": "https://localhost:8080/",
          "height": 89
        },
        "outputId": "1992003d-74c4-46ce-d8be-8047e1ac823c"
      },
      "source": [
        "\"\"\"\n",
        "그래프를 만들때 입력 받은 정점만 연결했더니 런타임 에러가 발생한 것 같다. (3 1 1 / 2 3 에서 런타임 발생)\n",
        "n까지의 모든 정점을 만들고 간선을 연결하자\n",
        "\"\"\"\n",
        "\n",
        "n, m, v = map(int, input().split())\n",
        "\n",
        "# 그래프 만들기\n",
        "# 두 정점 사이에 여러 개의 간선이 존재할 수 있다고 했으므로 집합으로 저장\n",
        "graph = {}\n",
        "for i in range(1, n+1):\n",
        "    graph[i] = set()\n",
        "\n",
        "for _ in range(m):\n",
        "    node1, node2 = map(int, input().split())\n",
        "    graph[node1].add(node2)\n",
        "    graph[node2].add(node1)\n",
        "\n",
        "\n",
        "# dfs는 스택을 이용한 자료구조\n",
        "def dfs(graph, start, visited=[]):\n",
        "    stack = [start]\n",
        "    while len(stack) > 0:\n",
        "        tmp = stack.pop()\n",
        "        if tmp not in visited:\n",
        "            visited.append(tmp)\n",
        "            stack.extend(sorted(graph[tmp], reverse=True)) # 작은 번호부터 방문 해야 하기 때문에 스택에 정렬해서 넣기\n",
        "    \n",
        "    # 출력하기\n",
        "    for item in visited:\n",
        "        print(item, end=' ')\n",
        "\n",
        "\n",
        "# bfs는 큐를 이용한 자료구조\n",
        "def bfs(graph, start, visited=[]):\n",
        "    queue = [start]\n",
        "    while len(queue) > 0:\n",
        "        tmp = queue.pop(0)\n",
        "        if tmp not in visited:\n",
        "            visited.append(tmp)\n",
        "            queue.extend(sorted(graph[tmp])) # enque는 큐의 앞에서부터 나가기 때문에 오름차순 정렬 후 삽입한다.\n",
        "\n",
        "    # 출력\n",
        "    for item in visited:\n",
        "        print(item, end=' ')\n",
        "\n",
        "\n",
        "# 런타임 에러 발생\n",
        "dfs(graph, start=v)\n",
        "print('')\n",
        "bfs(graph, start=v)"
      ],
      "execution_count": 83,
      "outputs": [
        {
          "output_type": "stream",
          "text": [
            "3 1 1\n",
            "2 3\n",
            "1 \n",
            "1 "
          ],
          "name": "stdout"
        }
      ]
    },
    {
      "cell_type": "code",
      "metadata": {
        "id": "Aj4bJp_nQL6S",
        "colab_type": "code",
        "colab": {
          "base_uri": "https://localhost:8080/",
          "height": 35
        },
        "outputId": "47be0675-9089-4efa-dcd4-802caf2be856"
      },
      "source": [
        "# dfs는 스택을 이용한 자료구조이다.\n",
        "def dfs(graph, start, visited=[]):\n",
        "    stack = [start]\n",
        "    while len(stack) > 0:\n",
        "        tmp = stack.pop()\n",
        "        if tmp not in visited:\n",
        "            visited.append(tmp)\n",
        "            stack.extend(sorted(graph[tmp], reverse=True)) # 작은 번호부터 방문 해야 하기 때문에 스택에 정렬해서 넣기\n",
        "    \n",
        "    # 출력하기\n",
        "    for item in visited:\n",
        "        print(item, end=' ')\n",
        "\n",
        "dfs(graph, start=v)"
      ],
      "execution_count": 76,
      "outputs": [
        {
          "output_type": "stream",
          "text": [
            "1 "
          ],
          "name": "stdout"
        }
      ]
    },
    {
      "cell_type": "code",
      "metadata": {
        "id": "lqzmd8WsuEzv",
        "colab_type": "code",
        "colab": {
          "base_uri": "https://localhost:8080/",
          "height": 35
        },
        "outputId": "4db2413e-b1be-4096-81d2-63531184cf39"
      },
      "source": [
        "# bfs는 큐를 이용한 자료구조\n",
        "def bfs(graph, start, visited=[]):\n",
        "    queue = [start]\n",
        "    while len(queue) > 0:\n",
        "        tmp = queue.pop(0)\n",
        "        if tmp not in visited:\n",
        "            visited.append(tmp)\n",
        "            queue.extend(sorted(graph[tmp])) # enque는 큐의 앞에서부터 나가기 때문에 오름차순 정렬 후 삽입한다.\n",
        "\n",
        "    # 출력\n",
        "    for item in visited:\n",
        "        print(item, end=' ')\n",
        "\n",
        "bfs(graph, start=v)"
      ],
      "execution_count": 55,
      "outputs": [
        {
          "output_type": "stream",
          "text": [
            "1 2 3 4 "
          ],
          "name": "stdout"
        }
      ]
    },
    {
      "cell_type": "code",
      "metadata": {
        "id": "e59DaqUZ7KBA",
        "colab_type": "code",
        "colab": {}
      },
      "source": [
        ""
      ],
      "execution_count": null,
      "outputs": []
    }
  ]
}