{
  "nbformat": 4,
  "nbformat_minor": 0,
  "metadata": {
    "colab": {
      "name": "7576. 토마토.ipynb",
      "provenance": [],
      "collapsed_sections": [],
      "authorship_tag": "ABX9TyMzkoHRVwttwphBJ+n002TG",
      "include_colab_link": true
    },
    "kernelspec": {
      "name": "python3",
      "display_name": "Python 3"
    }
  },
  "cells": [
    {
      "cell_type": "markdown",
      "metadata": {
        "id": "view-in-github",
        "colab_type": "text"
      },
      "source": [
        "<a href=\"https://colab.research.google.com/github/choi-yh/BOJ/blob/master/%EA%B7%B8%EB%9E%98%ED%94%84/7576_%ED%86%A0%EB%A7%88%ED%86%A0.ipynb\" target=\"_parent\"><img src=\"https://colab.research.google.com/assets/colab-badge.svg\" alt=\"Open In Colab\"/></a>"
      ]
    },
    {
      "cell_type": "markdown",
      "metadata": {
        "id": "mgkKrFj70C_E"
      },
      "source": [
        "### 10.07\n",
        "https://www.acmicpc.net/problem/7576\n",
        "\n",
        "문제\n",
        "---\n",
        "철수의 토마토 농장에서는 토마토를 보관하는 큰 창고를 가지고 있다. 토마토는 아래의 그림과 같이 격자 모양 상자의 칸에 하나씩 넣어서 창고에 보관한다. \n",
        "\n",
        "![image.png](data:image/png;base64,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)\n",
        "\n",
        "창고에 보관되는 토마토들 중에는 잘 익은 것도 있지만, 아직 익지 않은 토마토들도 있을 수 있다. 보관 후 하루가 지나면, 익은 토마토들의 인접한 곳에 있는 익지 않은 토마토들은 익은 토마토의 영향을 받아 익게 된다. 하나의 토마토의 인접한 곳은 왼쪽, 오른쪽, 앞, 뒤 네 방향에 있는 토마토를 의미한다. 대각선 방향에 있는 토마토들에게는 영향을 주지 못하며, 토마토가 혼자 저절로 익는 경우는 없다고 가정한다. 철수는 창고에 보관된 토마토들이 며칠이 지나면 다 익게 되는지, 그 최소 일수를 알고 싶어 한다.\n",
        "\n",
        "토마토를 창고에 보관하는 격자모양의 상자들의 크기와 익은 토마토들과 익지 않은 토마토들의 정보가 주어졌을 때, 며칠이 지나면 토마토들이 모두 익는지, 그 최소 일수를 구하는 프로그램을 작성하라. 단, 상자의 일부 칸에는 토마토가 들어있지 않을 수도 있다.\n",
        "\n",
        "입력\n",
        "---\n",
        "첫 줄에는 상자의 크기를 나타내는 두 정수 M,N이 주어진다. M은 상자의 가로 칸의 수, N은 상자의 세로 칸의 수를 나타낸다. 단, 2 ≤ M,N ≤ 1,000 이다. 둘째 줄부터는 하나의 상자에 저장된 토마토들의 정보가 주어진다. 즉, 둘째 줄부터 N개의 줄에는 상자에 담긴 토마토의 정보가 주어진다. 하나의 줄에는 상자 가로줄에 들어있는 토마토의 상태가 M개의 정수로 주어진다. 정수 1은 익은 토마토, 정수 0은 익지 않은 토마토, 정수 -1은 토마토가 들어있지 않은 칸을 나타낸다. \n",
        "\n",
        "출력\n",
        "---\n",
        "여러분은 토마토가 모두 익을 때까지의 최소 날짜를 출력해야 한다. 만약, 저장될 때부터 모든 토마토가 익어있는 상태이면 0을 출력해야 하고, 토마토가 모두 익지는 못하는 상황이면 -1을 출력해야 한다.\n",
        "\n"
      ]
    },
    {
      "cell_type": "code",
      "metadata": {
        "id": "QLB3pcrs0NNM",
        "outputId": "8790548f-bf70-4a47-97dd-43a2a25f5f17",
        "colab": {
          "base_uri": "https://localhost:8080/"
        }
      },
      "source": [
        "\"\"\"\n",
        "BFS 문제\n",
        "1인 부분에서 bfs를 수행해서 익은 날짜로 바꿔주면 된다.\n",
        "문제는 1이 여러 군데 있을 때, 중복되는 부분을 어떻게 처리할 것인가\n",
        "시간 초과 발생 & -1이 나오는 경우 고려안했음\n",
        "---\n",
        "익은 토마토가 있는 부분(1)을 한번에 큐에 넣고 bfs 수행\n",
        "\"\"\"\n",
        "from collections import deque\n",
        "\n",
        "def bfs(x, y):\n",
        "    day = 1\n",
        "\n",
        "    dx = [-1, 1, 0, 0]\n",
        "    dy = [0, 0, -1, 1]\n",
        "\n",
        "    queue = deque()\n",
        "    queue.append((x, y))\n",
        "\n",
        "    day_queue = deque()\n",
        "    day_queue.append(day)\n",
        "    \n",
        "    while queue:\n",
        "        x, y = queue.popleft()\n",
        "        day = day_queue.popleft()\n",
        "        data[x][y] = day # 익은 날짜 저장 (후에 -1)\n",
        "\n",
        "        for i in range(4):\n",
        "            nx = x + dx[i]\n",
        "            ny = y + dy[i]\n",
        "\n",
        "            if nx < 0 or ny < 0 or nx >= n or ny >= m:\n",
        "                continue\n",
        "\n",
        "            if (data[nx][ny] == 1) or (data[nx][ny] == -1):\n",
        "                continue\n",
        "\n",
        "            if ((data[nx][ny] == 0) or (data[nx][ny] > day)) and ((nx, ny) not in queue):\n",
        "                queue.append((nx, ny))\n",
        "                day_queue.append(day + 1)\n",
        "    return day\n",
        "\n",
        "m, n = map(int, input().split())\n",
        "data = []\n",
        "tomato = [] # 토마토 위치 저장할 인덱스\n",
        "for i in range(n):\n",
        "    tmp = list(map(int, input().split()))\n",
        "    data.append(tmp)\n",
        "    try:\n",
        "        idx = tmp.index(1)\n",
        "        tomato.append([i, idx])\n",
        "    except ValueError:\n",
        "        pass\n",
        "\n",
        "for item in tomato:\n",
        "    if data[item[0]][item[1]] == 1:\n",
        "        day = bfs(item[0], item[1]) - 1\n",
        "\n",
        "print(day)"
      ],
      "execution_count": 52,
      "outputs": [
        {
          "output_type": "stream",
          "text": [
            "6 5\n",
            "0 0 1 0 0 0\n",
            "0 0 0 0 0 0\n",
            "1 0 0 0 0 0\n",
            "0 0 0 0 0 0\n",
            "0 0 1 0 0 0 \n",
            "5\n"
          ],
          "name": "stdout"
        }
      ]
    },
    {
      "cell_type": "code",
      "metadata": {
        "id": "uMqMh0R_pka_",
        "outputId": "9e89a8e8-460c-4554-8f06-0ef3c25def85",
        "colab": {
          "base_uri": "https://localhost:8080/"
        }
      },
      "source": [
        "\"\"\"\n",
        "익은 토미토의 위치를 한번에 큐에 저장하고 \n",
        "해당 위치부터 bfs를 통해 익은 것을 확인하면 된다.\n",
        "\"\"\"\n",
        "\n",
        "from collections import deque\n",
        "\n",
        "m, n = map(int, input().split())\n",
        "data = []\n",
        "queue = deque()\n",
        "for i in range(n):\n",
        "    data.append(list(map(int, input().split()))) # 행 별로 입력받기\n",
        "\n",
        "for i in range(n):\n",
        "    for j in range(m):\n",
        "        if data[i][j] == 1:\n",
        "            queue.append((i, j))\n",
        "\n",
        "result = 0\n",
        "\n",
        "# 이동할 방향\n",
        "dx = [-1, 1, 0, 0]\n",
        "dy = [0, 0, -1, 1]\n",
        "\n",
        "# BFS를 통해 주변에 익지 않은 토마토를 익히기\n",
        "while queue:\n",
        "    x, y = queue.popleft()\n",
        "\n",
        "    for i in range(4):\n",
        "        nx = x + dx[i]\n",
        "        ny = y + dy[i]\n",
        "\n",
        "        if (0 <= nx < n) and (0 <= ny < m) and (data[nx][ny] == 0):\n",
        "            data[nx][ny] = data[x][y] + 1\n",
        "            queue.append((nx, ny))\n",
        "\n",
        "# 전체를 다시 확인 하면서 0이 존재하면 익지 않은 토마토가 존재\n",
        "check = False\n",
        "result = -2\n",
        "for row in data:\n",
        "    for col in row:\n",
        "        if col == 0:\n",
        "            check = True\n",
        "        result = max(result, col)\n",
        "\n",
        "if check:\n",
        "    print(-1)\n",
        "elif result == -1:\n",
        "    print(0)\n",
        "else:\n",
        "    print(result - 1)"
      ],
      "execution_count": 79,
      "outputs": [
        {
          "output_type": "stream",
          "text": [
            "6 4\n",
            "0 0 0 0 0 0\n",
            "0 0 0 0 0 0\n",
            "0 0 0 0 0 0\n",
            "0 0 0 0 0 1\n",
            "8\n"
          ],
          "name": "stdout"
        }
      ]
    },
    {
      "cell_type": "code",
      "metadata": {
        "id": "2dtW-n4GUZDg"
      },
      "source": [
        ""
      ],
      "execution_count": null,
      "outputs": []
    }
  ]
}