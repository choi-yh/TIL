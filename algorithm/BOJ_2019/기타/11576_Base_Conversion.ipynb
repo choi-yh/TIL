{
  "nbformat": 4,
  "nbformat_minor": 0,
  "metadata": {
    "colab": {
      "name": "11576. Base Conversion.ipynb",
      "provenance": [],
      "collapsed_sections": [],
      "authorship_tag": "ABX9TyOQUEKGpaPT/H0ty+leBOw5",
      "include_colab_link": true
    },
    "kernelspec": {
      "name": "python3",
      "display_name": "Python 3"
    }
  },
  "cells": [
    {
      "cell_type": "markdown",
      "metadata": {
        "id": "view-in-github",
        "colab_type": "text"
      },
      "source": [
        "<a href=\"https://colab.research.google.com/github/choi-yh/BOJ/blob/master/%EA%B8%B0%ED%83%80/11576_Base_Conversion.ipynb\" target=\"_parent\"><img src=\"https://colab.research.google.com/assets/colab-badge.svg\" alt=\"Open In Colab\"/></a>"
      ]
    },
    {
      "cell_type": "markdown",
      "metadata": {
        "id": "IyRzqBggMrgj",
        "colab_type": "text"
      },
      "source": [
        "### 09.16\n",
        "https://www.acmicpc.net/problem/11576\n",
        "\n",
        "문제\n",
        "---\n",
        "타임머신을 개발하는 정이는 오랜 노력 끝에 타임머신을 개발하는데 성공하였다. 미래가 궁금한 정이는 자신이 개발한 타임머신을 이용하여 500년 후의 세계로 여행을 떠나게 되었다. 500년 후의 세계에서도 프로그래밍을 하고 싶었던 정이는 백준 사이트에 접속하여 문제를 풀기로 하였다. 그러나 미래세계는 A진법을 사용하고 있었고, B진법을 사용하던 정이는 문제를 풀 수가 없었다. 뛰어난 프로그래머였던 정이는 A진법으로 나타낸 숫자를 B진법으로 변환시켜주는 프로그램을 작성하기로 하였다. \n",
        "\n",
        "N진법이란, 한 자리에서 숫자를 표현할 때 쓸 수 있는 숫자의 가짓수가 N이라는 뜻이다. 예를 들어 N은 17일 때 한 자릿수에서 사용할 수 있는 수는 0, 1, 2, ... , 16으로 총 17가지가 된다.\n",
        "\n",
        "입력\n",
        "---\n",
        "입력의 첫 줄에는 미래세계에서 사용하는 진법 A와 정이가 사용하는 진법 B가 공백을 구분으로 주어진다. A와 B는 모두 2이상 30이하의 자연수다.\n",
        "\n",
        "입력의 두 번째 줄에는 A진법으로 나타낸 숫자의 자리수의 개수 m(1 ≤ m ≤ 25)이 주어진다. 세 번째 줄에는 A진법을 이루고 있는 숫자 m개가 공백을 구분으로 높은 자릿수부터 차례대로 주어진다. 각 숫자는 0이상 A미만임이 보장된다. 또한 수가 0으로 시작하는 경우는 존재하지 않는다.\n",
        "\n",
        "A진법으로 나타낸 수를 10진법으로 변환하였을 때의 값은 양의 정수이며 220보다 작다.\n",
        "\n",
        "출력\n",
        "---\n",
        "입력으로 주어진 A진법으로 나타낸 수를 B진법으로 변환하여 출력한다."
      ]
    },
    {
      "cell_type": "code",
      "metadata": {
        "id": "OfbaaAu3M1Ia",
        "colab_type": "code",
        "colab": {
          "base_uri": "https://localhost:8080/",
          "height": 87
        },
        "outputId": "61882048-a8f6-4951-8d9d-57b0a94c3c7c"
      },
      "source": [
        "\"\"\"\n",
        "순서대로 10진수로 바꿨다가\n",
        "B 진수로 나머지 계산해서 출력하면 된다.\n",
        "\"\"\"\n",
        "\n",
        "a, b = map(int, input().split())\n",
        "m = int(input())\n",
        "data = list(map(int, input().split()))[::-1]\n",
        "\n",
        "decimal = 0\n",
        "for i in range(len(data)):\n",
        "    decimal += data[i] * (a**i)\n",
        "\n",
        "oct = []\n",
        "while decimal > 0:\n",
        "    oct.append(decimal % b)\n",
        "    decimal //= b\n",
        "\n",
        "oct = oct[::-1]\n",
        "for j in range(len(oct)):\n",
        "    print(oct[j], end=' ')"
      ],
      "execution_count": 8,
      "outputs": [
        {
          "output_type": "stream",
          "text": [
            "17 8\n",
            "2\n",
            "2 16\n",
            "6 2 "
          ],
          "name": "stdout"
        }
      ]
    },
    {
      "cell_type": "code",
      "metadata": {
        "id": "cpDzHK3cN2p1",
        "colab_type": "code",
        "colab": {
          "base_uri": "https://localhost:8080/",
          "height": 34
        },
        "outputId": "b92fbf74-af53-4e86-f0a5-2441a99a7182"
      },
      "source": [
        "print(oct)"
      ],
      "execution_count": 7,
      "outputs": [
        {
          "output_type": "stream",
          "text": [
            "[2, 6]\n"
          ],
          "name": "stdout"
        }
      ]
    },
    {
      "cell_type": "code",
      "metadata": {
        "id": "7TDqc0exOAdC",
        "colab_type": "code",
        "colab": {}
      },
      "source": [
        ""
      ],
      "execution_count": null,
      "outputs": []
    }
  ]
}