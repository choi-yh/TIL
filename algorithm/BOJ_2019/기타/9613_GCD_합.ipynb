{
  "nbformat": 4,
  "nbformat_minor": 0,
  "metadata": {
    "colab": {
      "name": "9613. GCD 합.ipynb",
      "provenance": [],
      "collapsed_sections": [],
      "authorship_tag": "ABX9TyPuXWgoKfNMxef17jBOxKhX",
      "include_colab_link": true
    },
    "kernelspec": {
      "name": "python3",
      "display_name": "Python 3"
    }
  },
  "cells": [
    {
      "cell_type": "markdown",
      "metadata": {
        "id": "view-in-github",
        "colab_type": "text"
      },
      "source": [
        "<a href=\"https://colab.research.google.com/github/choi-yh/BOJ/blob/master/9613_GCD_%ED%95%A9.ipynb\" target=\"_parent\"><img src=\"https://colab.research.google.com/assets/colab-badge.svg\" alt=\"Open In Colab\"/></a>"
      ]
    },
    {
      "cell_type": "markdown",
      "metadata": {
        "id": "X3cltDoh2ioG",
        "colab_type": "text"
      },
      "source": [
        "### 09.15\n",
        "https://www.acmicpc.net/problem/9613\n",
        "\n",
        "문제\n",
        "---\n",
        "양의 정수 n개가 주어졌을 때, 가능한 모든 쌍의 GCD의 합을 구하는 프로그램을 작성하시오.\n",
        "\n",
        "입력\n",
        "---\n",
        "첫째 줄에 테스트 케이스의 개수 t (1 ≤ t ≤ 100)이 주어진다. 각 테스트 케이스는 한 줄로 이루어져 있다. 각 테스트 케이스는 수의 개수 n (1 < n ≤ 100)가 주어지고, 다음에는 n개의 수가 주어진다. 입력으로 주어지는 수는 1,000,000을 넘지 않는다.\n",
        "\n",
        "출력\n",
        "---\n",
        "각 테스트 케이스마다 가능한 모든 쌍의 GCD의 합을 출력한다."
      ]
    },
    {
      "cell_type": "code",
      "metadata": {
        "id": "vf4zsaxqfTxz",
        "colab_type": "code",
        "colab": {
          "base_uri": "https://localhost:8080/",
          "height": 140
        },
        "outputId": "6e83a264-2195-4e47-d7b1-abce73ffad2d"
      },
      "source": [
        "\"\"\"\n",
        "리스트에 집어넣고 전부 확인하면서 gcd를 구해서 더하면 된다.\n",
        "\"\"\"\n",
        "\n",
        "import math\n",
        "\n",
        "t = int(input())\n",
        "\n",
        "for _ in range(t):\n",
        "    data = list(input().split())\n",
        "    n = int(data.pop(0))\n",
        "\n",
        "    result = []\n",
        "    for i in range(n):\n",
        "        for j in range(i+1, n):\n",
        "            result.append(math.gcd(int(data[i]), int(data[j])))\n",
        "\n",
        "    print(sum(result))"
      ],
      "execution_count": 13,
      "outputs": [
        {
          "output_type": "stream",
          "text": [
            "3\n",
            "4 10 20 30 40\n",
            "70\n",
            "3 7 5 12\n",
            "3\n",
            "3 125 15 25\n",
            "35\n"
          ],
          "name": "stdout"
        }
      ]
    },
    {
      "cell_type": "code",
      "metadata": {
        "id": "A93owSLKgz0P",
        "colab_type": "code",
        "colab": {}
      },
      "source": [
        ""
      ],
      "execution_count": null,
      "outputs": []
    }
  ]
}
