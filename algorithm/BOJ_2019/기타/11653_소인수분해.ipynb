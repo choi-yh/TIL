{
  "nbformat": 4,
  "nbformat_minor": 0,
  "metadata": {
    "colab": {
      "name": "11653. 소인수분해.ipynb",
      "provenance": [],
      "collapsed_sections": [],
      "authorship_tag": "ABX9TyOAHxzy/rAyDXE/yaw8Ou4B",
      "include_colab_link": true
    },
    "kernelspec": {
      "name": "python3",
      "display_name": "Python 3"
    }
  },
  "cells": [
    {
      "cell_type": "markdown",
      "metadata": {
        "id": "view-in-github",
        "colab_type": "text"
      },
      "source": [
        "<a href=\"https://colab.research.google.com/github/choi-yh/BOJ/blob/master/%EA%B8%B0%ED%83%80/11653_%EC%86%8C%EC%9D%B8%EC%88%98%EB%B6%84%ED%95%B4.ipynb\" target=\"_parent\"><img src=\"https://colab.research.google.com/assets/colab-badge.svg\" alt=\"Open In Colab\"/></a>"
      ]
    },
    {
      "cell_type": "markdown",
      "metadata": {
        "id": "0sOtbaSgFfhl",
        "colab_type": "text"
      },
      "source": [
        "### 09.17\n",
        "https://www.acmicpc.net/problem/11653\n",
        "\n",
        "문제\n",
        "---\n",
        "정수 N이 주어졌을 때, 소인수분해하는 프로그램을 작성하시오.\n",
        "\n",
        "입력\n",
        "---\n",
        "첫째 줄에 정수 N (1 ≤ N ≤ 10,000,000)이 주어진다.\n",
        "\n",
        "출력\n",
        "---\n",
        "N의 소인수분해 결과를 한 줄에 하나씩 오름차순으로 출력한다."
      ]
    },
    {
      "cell_type": "code",
      "metadata": {
        "id": "0nu1OQdAFuo6",
        "colab_type": "code",
        "colab": {
          "base_uri": "https://localhost:8080/",
          "height": 71
        },
        "outputId": "d671faa8-78d7-4635-fb56-2e5e070a91b0"
      },
      "source": [
        "\"\"\"\n",
        "1이 될 때까지 나누면서 값을 출력\n",
        "\"\"\"\n",
        "\n",
        "n = int(input())\n",
        "\n",
        "divisor = 2\n",
        "while n > 1:\n",
        "    if n % divisor == 0:\n",
        "        print(divisor)\n",
        "        n //= divisor\n",
        "    else:\n",
        "        divisor += 1"
      ],
      "execution_count": 7,
      "outputs": [
        {
          "output_type": "stream",
          "text": [
            "9991\n",
            "97\n",
            "103\n"
          ],
          "name": "stdout"
        }
      ]
    },
    {
      "cell_type": "code",
      "metadata": {
        "id": "AnGc-aaXGDob",
        "colab_type": "code",
        "colab": {}
      },
      "source": [
        ""
      ],
      "execution_count": null,
      "outputs": []
    }
  ]
}