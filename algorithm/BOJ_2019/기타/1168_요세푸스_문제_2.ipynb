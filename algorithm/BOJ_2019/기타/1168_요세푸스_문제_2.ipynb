{
  "nbformat": 4,
  "nbformat_minor": 0,
  "metadata": {
    "colab": {
      "name": "1168. 요세푸스 문제 2.ipynb",
      "provenance": [],
      "collapsed_sections": [],
      "authorship_tag": "ABX9TyM73IU26Q+PqnhbYsZmDilf",
      "include_colab_link": true
    },
    "kernelspec": {
      "name": "python3",
      "display_name": "Python 3"
    }
  },
  "cells": [
    {
      "cell_type": "markdown",
      "metadata": {
        "id": "view-in-github",
        "colab_type": "text"
      },
      "source": [
        "<a href=\"https://colab.research.google.com/github/choi-yh/BOJ/blob/master/1168_%EC%9A%94%EC%84%B8%ED%91%B8%EC%8A%A4_%EB%AC%B8%EC%A0%9C_2.ipynb\" target=\"_parent\"><img src=\"https://colab.research.google.com/assets/colab-badge.svg\" alt=\"Open In Colab\"/></a>"
      ]
    },
    {
      "cell_type": "markdown",
      "metadata": {
        "id": "fakWiSIk1hyd",
        "colab_type": "text"
      },
      "source": [
        "### 09.14\n",
        "https://www.acmicpc.net/problem/1168\n",
        "\n",
        "**1158. 요세푸스 문제와 같지만 시간 제한과 N의 범위가 다르다.**  \n",
        "Python으로의 풀이는 크게 다르지 않은듯하다.\n",
        "\n",
        "문제\n",
        "---\n",
        "요세푸스 문제는 다음과 같다.\n",
        "\n",
        "1번부터 N번까지 N명의 사람이 원을 이루면서 앉아있고, 양의 정수 K(≤ N)가 주어진다. 이제 순서대로 K번째 사람을 제거한다. 한 사람이 제거되면 남은 사람들로 이루어진 원을 따라 이 과정을 계속해 나간다. 이 과정은 N명의 사람이 모두 제거될 때까지 계속된다. 원에서 사람들이 제거되는 순서를 (N, K)-요세푸스 순열이라고 한다. 예를 들어 (7, 3)-요세푸스 순열은 <3, 6, 2, 7, 5, 1, 4>이다.\n",
        "\n",
        "N과 K가 주어지면 (N, K)-요세푸스 순열을 구하는 프로그램을 작성하시오.\n",
        "\n",
        "입력\n",
        "---\n",
        "첫째 줄에 N과 K가 빈 칸을 사이에 두고 순서대로 주어진다. **(1 ≤ K ≤ N ≤ 100,000)**\n",
        "\n",
        "출력\n",
        "---\n",
        "예제와 같이 요세푸스 순열을 출력한다."
      ]
    },
    {
      "cell_type": "code",
      "metadata": {
        "id": "NCI4tt7e16ZF",
        "colab_type": "code",
        "colab": {
          "base_uri": "https://localhost:8080/",
          "height": 53
        },
        "outputId": "c9cf6042-1906-4cc8-8bc9-88e618d7e232"
      },
      "source": [
        "n, k = map(int, input().split())\n",
        "\n",
        "num = list(range(1, n+1))\n",
        "result = []\n",
        "\n",
        "idx = 0\n",
        "while len(num) > 0:\n",
        "    idx += (k-1)\n",
        "    idx = idx % len(num)\n",
        "    result.append(str(num.pop(idx)))\n",
        "\n",
        "print('<' + ', '.join(result) + '>')"
      ],
      "execution_count": 10,
      "outputs": [
        {
          "output_type": "stream",
          "text": [
            "7 3\n",
            "<3, 6, 2, 7, 5, 1, 4>\n"
          ],
          "name": "stdout"
        }
      ]
    },
    {
      "cell_type": "code",
      "metadata": {
        "id": "kWa9ORf127JL",
        "colab_type": "code",
        "colab": {}
      },
      "source": [
        ""
      ],
      "execution_count": null,
      "outputs": []
    }
  ]
}
