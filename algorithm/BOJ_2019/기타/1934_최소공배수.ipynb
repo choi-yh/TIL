{
  "nbformat": 4,
  "nbformat_minor": 0,
  "metadata": {
    "colab": {
      "name": "1934. 최소공배수.ipynb",
      "provenance": [],
      "collapsed_sections": [],
      "authorship_tag": "ABX9TyPc1iZoMCOw+qMoRXN7TPFK",
      "include_colab_link": true
    },
    "kernelspec": {
      "name": "python3",
      "display_name": "Python 3"
    }
  },
  "cells": [
    {
      "cell_type": "markdown",
      "metadata": {
        "id": "view-in-github",
        "colab_type": "text"
      },
      "source": [
        "<a href=\"https://colab.research.google.com/github/choi-yh/BOJ/blob/master/1934_%EC%B5%9C%EC%86%8C%EA%B3%B5%EB%B0%B0%EC%88%98.ipynb\" target=\"_parent\"><img src=\"https://colab.research.google.com/assets/colab-badge.svg\" alt=\"Open In Colab\"/></a>"
      ]
    },
    {
      "cell_type": "markdown",
      "metadata": {
        "id": "aijXyHe2rgrd",
        "colab_type": "text"
      },
      "source": [
        "### 09.15\n",
        "https://www.acmicpc.net/problem/1934\n",
        "\n",
        "문제\n",
        "---\n",
        "두 자연수 A와 B에 대해서, A의 배수이면서 B의 배수인 자연수를 A와 B의 공배수라고 한다. 이런 공배수 중에서 가장 작은 수를 최소공배수라고 한다. 예를 들어, 6과 15의 공배수는 30, 60, 90등이 있으며, 최소 공배수는 30이다.\n",
        "\n",
        "두 자연수 A와 B가 주어졌을 때, A와 B의 최소공배수를 구하는 프로그램을 작성하시오.\n",
        "\n",
        "입력\n",
        "---\n",
        "첫째 줄에 테스트 케이스의 개수 T(1 ≤ T ≤ 1,000)가 주어진다. 둘째 줄부터 T개의 줄에 걸쳐서 A와 B가 주어진다. (1 ≤ A, B ≤ 45,000)\n",
        "\n",
        "출력\n",
        "---\n",
        "첫째 줄부터 T개의 줄에 A와 B의 최소공배수를 입력받은 순서대로 한 줄에 하나씩 출력한다."
      ]
    },
    {
      "cell_type": "code",
      "metadata": {
        "id": "1bslIWLyrvHt",
        "colab_type": "code",
        "colab": {
          "base_uri": "https://localhost:8080/",
          "height": 34
        },
        "outputId": "55c345e5-7ea8-44c2-e46b-73add30ec913"
      },
      "source": [
        "\"\"\"\n",
        "최대공약수를 구하면 쉽게 구할 수 있다.\n",
        "유클리드 호제법을 써보자\n",
        "\n",
        "gcd를 재귀로도 구현이 가능하네\n",
        "gcd 라이브러리도 잇고 (import math.gcd)\n",
        "\"\"\"\n",
        "import sys\n",
        "t = int(input())\n",
        "\n",
        "def lcm(a, b):\n",
        "    a_tmp, b_tmp = min(a, b), max(a, b)\n",
        "    gcd = a_tmp\n",
        "\n",
        "    while True:\n",
        "        if b_tmp % a_tmp == 0:\n",
        "            gcd = a_tmp\n",
        "            break\n",
        "        b_tmp, a_tmp = a_tmp, (b_tmp % a_tmp)\n",
        "\n",
        "    lcm = gcd * (a//gcd) * (b//gcd)\n",
        "    return lcm\n",
        "\n",
        "for _ in range(t):\n",
        "    a, b = map(int, sys.stdin.readline().split())\n",
        "    print(lcm(a, b))"
      ],
      "execution_count": 1,
      "outputs": [
        {
          "output_type": "stream",
          "text": [
            "3\n"
          ],
          "name": "stdout"
        }
      ]
    },
    {
      "cell_type": "code",
      "metadata": {
        "id": "8-pL87zPsB0A",
        "colab_type": "code",
        "colab": {
          "base_uri": "https://localhost:8080/",
          "height": 34
        },
        "outputId": "96bedb16-1a75-4f5e-fa6f-22bb3bb02dbf"
      },
      "source": [
        "a = 6\n",
        "b = 10\n",
        "\n",
        "def lcm(a, b):\n",
        "    a_tmp, b_tmp = min(a, b), max(a, b)\n",
        "    gcd = a_tmp\n",
        "\n",
        "    while True:\n",
        "        if b_tmp % a_tmp == 0:\n",
        "            gcd = a_tmp\n",
        "            break\n",
        "        b_tmp, a_tmp = a_tmp, (b_tmp % a_tmp)\n",
        "\n",
        "    lcm = gcd * (a//gcd) * (b//gcd)\n",
        "    return lcm\n",
        "\n",
        "lcm(13, 17)"
      ],
      "execution_count": 3,
      "outputs": [
        {
          "output_type": "execute_result",
          "data": {
            "text/plain": [
              "221"
            ]
          },
          "metadata": {
            "tags": []
          },
          "execution_count": 3
        }
      ]
    },
    {
      "cell_type": "code",
      "metadata": {
        "id": "2_3WzBKzuKyA",
        "colab_type": "code",
        "colab": {}
      },
      "source": [
        ""
      ],
      "execution_count": null,
      "outputs": []
    }
  ]
}
