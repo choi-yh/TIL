{
  "nbformat": 4,
  "nbformat_minor": 0,
  "metadata": {
    "colab": {
      "name": "11724. 연결 요소의 개수.ipynb",
      "provenance": [],
      "collapsed_sections": [],
      "authorship_tag": "ABX9TyMz1uXIYrS4FDGNmyKB/bw/",
      "include_colab_link": true
    },
    "kernelspec": {
      "name": "python3",
      "display_name": "Python 3"
    }
  },
  "cells": [
    {
      "cell_type": "markdown",
      "metadata": {
        "id": "view-in-github",
        "colab_type": "text"
      },
      "source": [
        "<a href=\"https://colab.research.google.com/github/choi-yh/BOJ/blob/master/%EA%B7%B8%EB%9E%98%ED%94%84/11724_%EC%97%B0%EA%B2%B0_%EC%9A%94%EC%86%8C%EC%9D%98_%EA%B0%9C%EC%88%98.ipynb\" target=\"_parent\"><img src=\"https://colab.research.google.com/assets/colab-badge.svg\" alt=\"Open In Colab\"/></a>"
      ]
    },
    {
      "cell_type": "markdown",
      "metadata": {
        "id": "nw_0E6pWWS6C",
        "colab_type": "text"
      },
      "source": [
        "### 09.21\n",
        "https://www.acmicpc.net/problem/11724\n",
        "\n",
        "문제\n",
        "---\n",
        "방향 없는 그래프가 주어졌을 때, 연결 요소 (Connected Component)의 개수를 구하는 프로그램을 작성하시오.\n",
        "\n",
        "입력\n",
        "---\n",
        "첫째 줄에 정점의 개수 N과 간선의 개수 M이 주어진다. (1 ≤ N ≤ 1,000, 0 ≤ M ≤ N×(N-1)/2) 둘째 줄부터 M개의 줄에 간선의 양 끝점 u와 v가 주어진다. (1 ≤ u, v ≤ N, u ≠ v) 같은 간선은 한 번만 주어진다.\n",
        "\n",
        "출력\n",
        "---\n",
        "첫째 줄에 연결 요소의 개수를 출력한다."
      ]
    },
    {
      "cell_type": "code",
      "metadata": {
        "id": "1VqF84FQWaxd",
        "colab_type": "code",
        "colab": {
          "base_uri": "https://localhost:8080/",
          "height": 193
        },
        "outputId": "0e1914c8-e4f9-4e3c-f1b0-22fda9b63e58"
      },
      "source": [
        "n, m = map(int, input().split())\n",
        "\n",
        "# 그래프 생성\n",
        "graph = [[] for _ in range(n+1)]\n",
        "for _ in range(m):\n",
        "    node1, node2 = map(int, input().split())\n",
        "    graph[node1].append(node2)\n",
        "    graph[node2].append(node1)\n",
        "\n",
        "# dfs를 통해서 연결 노드 확인\n",
        "def dfs(graph, v, visited):\n",
        "    visited[v] = True\n",
        "    for i in graph[v]:\n",
        "        if not visited[i]:\n",
        "            dfs(graph, i, visited)\n",
        "    return visited\n",
        "\n",
        "visited = [False] * (n+1)\n",
        "count = 0\n",
        "for i in range(1, n+1):\n",
        "    if visited[i] == False:\n",
        "        visited = dfs(graph, i, visited)\n",
        "        count += 1\n",
        "print(count)"
      ],
      "execution_count": 10,
      "outputs": [
        {
          "output_type": "stream",
          "text": [
            "6 8\n",
            "1 2\n",
            "2 5\n",
            "5 1\n",
            "3 4\n",
            "4 6\n",
            "5 4\n",
            "2 4\n",
            "2 3\n",
            "1\n"
          ],
          "name": "stdout"
        }
      ]
    },
    {
      "cell_type": "code",
      "metadata": {
        "id": "yUVgGmeOZ2rf",
        "colab_type": "code",
        "colab": {}
      },
      "source": [
        ""
      ],
      "execution_count": null,
      "outputs": []
    }
  ]
}