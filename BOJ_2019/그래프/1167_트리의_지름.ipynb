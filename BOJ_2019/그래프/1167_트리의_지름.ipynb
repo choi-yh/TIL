{
  "nbformat": 4,
  "nbformat_minor": 0,
  "metadata": {
    "colab": {
      "name": "1167. 트리의 지름.ipynb",
      "provenance": [],
      "collapsed_sections": [],
      "authorship_tag": "ABX9TyN7qOKTL4AlT+VE72FtXFms",
      "include_colab_link": true
    },
    "kernelspec": {
      "name": "python3",
      "display_name": "Python 3"
    }
  },
  "cells": [
    {
      "cell_type": "markdown",
      "metadata": {
        "id": "view-in-github",
        "colab_type": "text"
      },
      "source": [
        "<a href=\"https://colab.research.google.com/github/choi-yh/BOJ/blob/master/%EA%B7%B8%EB%9E%98%ED%94%84/1167_%ED%8A%B8%EB%A6%AC%EC%9D%98_%EC%A7%80%EB%A6%84.ipynb\" target=\"_parent\"><img src=\"https://colab.research.google.com/assets/colab-badge.svg\" alt=\"Open In Colab\"/></a>"
      ]
    },
    {
      "cell_type": "markdown",
      "metadata": {
        "id": "YXwFw3N8yMLF"
      },
      "source": [
        "### 10.13\n",
        "https://www.acmicpc.net/problem/1167\n",
        "\n",
        "문제\n",
        "---\n",
        "트리의 지름이란, 트리에서 임의의 두 점 사이의 거리 중 가장 긴 것을 말한다. 트리의 지름을 구하는 프로그램을 작성하시오.\n",
        "\n",
        "입력\n",
        "---\n",
        "트리가 입력으로 주어진다. 먼저 첫 번째 줄에서는 트리의 정점의 개수 V가 주어지고 (2≤V≤100,000)둘째 줄부터 V개의 줄에 걸쳐 간선의 정보가 다음과 같이 주어진다. (정점 번호는 1부터 V까지 매겨져 있다고 생각한다)\n",
        "\n",
        "먼저 정점 번호가 주어지고, 이어서 연결된 간선의 정보를 의미하는 정수가 두 개씩 주어지는데, 하나는 정점번호, 다른 하나는 그 정점까지의 거리이다. 예를 들어 네 번째 줄의 경우 정점 3은 정점 1과 거리가 2인 간선으로 연결되어 있고, 정점 4와는 거리가 3인 간선으로 연결되어 있는 것을 보여준다. 각 줄의 마지막에는 -1이 입력으로 주어진다. 주어지는 거리는 모두 10,000 이하의 자연수이다.\n",
        "\n",
        "출력\n",
        "---\n",
        "첫째 줄에 트리의 지름을 출력한다."
      ]
    },
    {
      "cell_type": "code",
      "metadata": {
        "id": "FHTBwxM7yUrL",
        "outputId": "1f2c891e-e169-420d-8d0d-1538b0e33b4b",
        "colab": {
          "base_uri": "https://localhost:8080/",
          "height": 140
        }
      },
      "source": [
        "\"\"\"\n",
        "트리의 지름 구하기\n",
        "1. 임의의 점 x에서 가장 먼 점 y를 구하고\n",
        "2. y에서 가장 먼 점인 z를 구한다.\n",
        "3. y와 z간의 거리가 트리의 지름이 된다.\n",
        "\"\"\"\n",
        "\n",
        "def dfs(start, tree, visited):\n",
        "    for node, dist in tree[start].items():\n",
        "        if visited[node] == 0:\n",
        "            visited[node] = visited[start] + dist\n",
        "            dfs(node, tree, visited)\n",
        "\n",
        "# 입력 받아서 트리 만들기\n",
        "v = int(input())\n",
        "tree = [dict() for _ in range(v+1)]\n",
        "# 해당 노드와 연결된 정점(key)과 그 거리(value)\n",
        "for _ in range(v):\n",
        "    node_info = list(map(int, input().split()))\n",
        "    for i in range(1, len(node_info)-1, 2):\n",
        "        tree[node_info[0]][node_info[i]] = node_info[i+1]\n",
        "\n",
        "# 1에서 무작위로 시작\n",
        "visited1 = [0 for _ in range(v+1)]\n",
        "dfs(1, tree, visited1) \n",
        "visited1[1] = 0\n",
        "\n",
        "# y 구해서 z 구하기\n",
        "y = visited1.index(max(visited1)) \n",
        "visited2 = [0 for _ in range(v+1)]\n",
        "dfs(y, tree, visited2)\n",
        "visited2[y] = 0\n",
        "\n",
        "print(max(visited2))"
      ],
      "execution_count": 57,
      "outputs": [
        {
          "output_type": "stream",
          "text": [
            "5\n",
            "1 3 2 -1\n",
            "2 4 4 -1\n",
            "3 1 2 4 3 -1\n",
            "4 2 4 3 3 5 6 -1\n",
            "5 4 6 -1\n",
            "11\n"
          ],
          "name": "stdout"
        }
      ]
    },
    {
      "cell_type": "code",
      "metadata": {
        "id": "I9n273V3hh6i"
      },
      "source": [
        ""
      ],
      "execution_count": null,
      "outputs": []
    }
  ]
}