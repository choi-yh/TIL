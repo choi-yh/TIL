{
  "nbformat": 4,
  "nbformat_minor": 0,
  "metadata": {
    "colab": {
      "name": "2178. 미로 탐색.ipynb",
      "provenance": [],
      "collapsed_sections": [],
      "authorship_tag": "ABX9TyMFiyaevf+PJu7EzNLxdM9e",
      "include_colab_link": true
    },
    "kernelspec": {
      "name": "python3",
      "display_name": "Python 3"
    }
  },
  "cells": [
    {
      "cell_type": "markdown",
      "metadata": {
        "id": "view-in-github",
        "colab_type": "text"
      },
      "source": [
        "<a href=\"https://colab.research.google.com/github/choi-yh/BOJ/blob/master/%EA%B7%B8%EB%9E%98%ED%94%84/2178_%EB%AF%B8%EB%A1%9C_%ED%83%90%EC%83%89.ipynb\" target=\"_parent\"><img src=\"https://colab.research.google.com/assets/colab-badge.svg\" alt=\"Open In Colab\"/></a>"
      ]
    },
    {
      "cell_type": "markdown",
      "metadata": {
        "id": "VJf6OOIoAYpV"
      },
      "source": [
        "### 10.08\n",
        "https://www.acmicpc.net/problem/2178\n",
        "\n",
        "문제\n",
        "---\n",
        "N×M크기의 배열로 표현되는 미로가 있다.\n",
        "\n",
        "|||||||\n",
        "|:-:|:-:|:-:|:-:|:-:|:-:|\n",
        "|1\t|0\t|1\t|1\t|1\t|1 |\n",
        "|1\t|0\t|1\t|0\t|1\t|0 |\n",
        "|1\t|0\t|1\t|0\t|1\t|1 |\n",
        "|1\t|1\t|1\t|0\t|1\t|1 |\n",
        "\n",
        "미로에서 1은 이동할 수 있는 칸을 나타내고, 0은 이동할 수 없는 칸을 나타낸다. 이러한 미로가 주어졌을 때, (1, 1)에서 출발하여 (N, M)의 위치로 이동할 때 지나야 하는 최소의 칸 수를 구하는 프로그램을 작성하시오. 한 칸에서 다른 칸으로 이동할 때, 서로 인접한 칸으로만 이동할 수 있다.\n",
        "\n",
        "위의 예에서는 15칸을 지나야 (N, M)의 위치로 이동할 수 있다. 칸을 셀 때에는 시작 위치와 도착 위치도 포함한다.\n",
        "\n",
        "입력\n",
        "---\n",
        "첫째 줄에 두 정수 N, M(2 ≤ N, M ≤ 100)이 주어진다. 다음 N개의 줄에는 M개의 정수로 미로가 주어진다. 각각의 수들은 붙어서 입력으로 주어진다.\n",
        "\n",
        "출력\n",
        "---\n",
        "첫째 줄에 지나야 하는 최소의 칸 수를 출력한다. 항상 도착위치로 이동할 수 있는 경우만 입력으로 주어진다."
      ]
    },
    {
      "cell_type": "code",
      "metadata": {
        "id": "fnnrjSTbAqM8",
        "outputId": "7dc6f8de-bf8d-4383-87a2-59a0a6426b81",
        "colab": {
          "base_uri": "https://localhost:8080/",
          "height": 175
        }
      },
      "source": [
        "\"\"\"\n",
        "BFS\n",
        "BFS 하면서 이동 카운트를 저장\n",
        "시작점은 무조건 3이 되지만 크게 중요하지 않음\n",
        "\"\"\"\n",
        "from collections import deque\n",
        "\n",
        "n, m = map(int, input().split())\n",
        "data = []\n",
        "for _ in range(n):\n",
        "    data.append(list(map(int, input())))\n",
        "\n",
        "# 이동 방향 정의\n",
        "dx = [1, -1, 0, 0]\n",
        "dy = [0, 0, 1, -1]\n",
        "\n",
        "x, y = 0, 0 # 시작점\n",
        "\n",
        "queue = deque()\n",
        "queue.append((x, y))\n",
        "while queue:\n",
        "    x, y = queue.popleft()\n",
        "    \n",
        "    for i in range(4):\n",
        "        nx = x + dx[i]\n",
        "        ny = y + dy[i]\n",
        "\n",
        "        # 밖으로 나가지 않았고 이동할 수 있는 위치(1)이면\n",
        "        if (0 <= nx < n) and (0 <= ny < m) and (data[nx][ny] == 1):\n",
        "            queue.append((nx, ny)) # 큐에 추가\n",
        "            data[nx][ny] = data[x][y] + 1 # 이전 카운트 +1\n",
        "\n",
        "print(data[n-1][m-1])"
      ],
      "execution_count": 26,
      "outputs": [
        {
          "output_type": "stream",
          "text": [
            "7 7\n",
            "1011111\n",
            "1110001\n",
            "1000001\n",
            "1000001\n",
            "1000001\n",
            "1000001\n",
            "1111111\n",
            "13\n"
          ],
          "name": "stdout"
        }
      ]
    },
    {
      "cell_type": "code",
      "metadata": {
        "id": "BjFHbIhlKmbm",
        "outputId": "602add28-1dc5-45c9-9dbc-8c566f2ad829",
        "colab": {
          "base_uri": "https://localhost:8080/",
          "height": 140
        }
      },
      "source": [
        "data"
      ],
      "execution_count": 27,
      "outputs": [
        {
          "output_type": "execute_result",
          "data": {
            "text/plain": [
              "[[3, 0, 5, 6, 7, 8, 9],\n",
              " [2, 3, 4, 0, 0, 0, 10],\n",
              " [3, 0, 0, 0, 0, 0, 11],\n",
              " [4, 0, 0, 0, 0, 0, 12],\n",
              " [5, 0, 0, 0, 0, 0, 13],\n",
              " [6, 0, 0, 0, 0, 0, 14],\n",
              " [7, 8, 9, 10, 11, 12, 13]]"
            ]
          },
          "metadata": {
            "tags": []
          },
          "execution_count": 27
        }
      ]
    },
    {
      "cell_type": "code",
      "metadata": {
        "id": "5ehugcJNBwiU"
      },
      "source": [
        ""
      ],
      "execution_count": null,
      "outputs": []
    }
  ]
}