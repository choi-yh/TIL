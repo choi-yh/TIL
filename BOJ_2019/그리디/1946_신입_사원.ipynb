{
  "nbformat": 4,
  "nbformat_minor": 0,
  "metadata": {
    "colab": {
      "name": "1946. 신입 사원.ipynb",
      "provenance": [],
      "collapsed_sections": [],
      "authorship_tag": "ABX9TyNH/xI95HWrwI1/m78iG8oe",
      "include_colab_link": true
    },
    "kernelspec": {
      "name": "python3",
      "display_name": "Python 3"
    }
  },
  "cells": [
    {
      "cell_type": "markdown",
      "metadata": {
        "id": "view-in-github",
        "colab_type": "text"
      },
      "source": [
        "<a href=\"https://colab.research.google.com/github/choi-yh/BOJ/blob/master/%EA%B7%B8%EB%A6%AC%EB%94%94/1946_%EC%8B%A0%EC%9E%85_%EC%82%AC%EC%9B%90.ipynb\" target=\"_parent\"><img src=\"https://colab.research.google.com/assets/colab-badge.svg\" alt=\"Open In Colab\"/></a>"
      ]
    },
    {
      "cell_type": "markdown",
      "metadata": {
        "id": "4zTuavZfZ0qx"
      },
      "source": [
        "### 09.27\n",
        "https://www.acmicpc.net/problem/1946\n",
        "\n",
        "문제\n",
        "---\n",
        "언제나 최고만을 지향하는 굴지의 대기업 진영 주식회사가 신규 사원 채용을 실시한다. 인재 선발 시험은 1차 서류심사와 2차 면접시험으로 이루어진다. 최고만을 지향한다는 기업의 이념에 따라 그들은 최고의 인재들만을 사원으로 선발하고 싶어 한다.\n",
        "\n",
        "그래서 진영 주식회사는, 다른 모든 지원자와 비교했을 때 서류심사 성적과 면접시험 성적 중 적어도 하나가 다른 지원자보다 떨어지지 않는 자만 선발한다는 원칙을 세웠다. 즉, 어떤 지원자 A의 성적이 다른 어떤 지원자 B의 성적에 비해 서류 심사 결과와 면접 성적이 모두 떨어진다면 A는 결코 선발되지 않는다.\n",
        "\n",
        "이러한 조건을 만족시키면서, 진영 주식회사가 이번 신규 사원 채용에서 선발할 수 있는 신입사원의 최대 인원수를 구하는 프로그램을 작성하시오.\n",
        "\n",
        "입력\n",
        "---\n",
        "첫째 줄에는 테스트 케이스의 개수 T(1 ≤ T ≤ 20)가 주어진다. 각 테스트 케이스의 첫째 줄에 지원자의 숫자 N(1 ≤ N ≤ 100,000)이 주어진다. 둘째 줄부터 N개 줄에는 각각의 지원자의 서류심사 성적, 면접 성적의 순위가 공백을 사이에 두고 한 줄에 주어진다. 두 성적 순위는 모두 1위부터 N위까지 동석차 없이 결정된다고 가정한다.\n",
        "\n",
        "출력\n",
        "---\n",
        "각 테스트 케이스에 대해서 진영 주식회사가 선발할 수 있는 신입사원의 최대 인원수를 한 줄에 하나씩 출력한다."
      ]
    },
    {
      "cell_type": "code",
      "metadata": {
        "id": "7YS4nB-gZ8HJ",
        "outputId": "a65637a5-4d7f-4154-eeb9-71b32af2f5d3",
        "colab": {
          "base_uri": "https://localhost:8080/",
          "height": 323
        }
      },
      "source": [
        "# 2차 면접 순으로 정렬한 뒤에 1차 심사 순위를 비교하면서 값이 더 큰 경우는 제외하면 된다.\n",
        "\n",
        "t = int(input())\n",
        "\n",
        "for _ in range(t):\n",
        "\n",
        "    n = int(input())\n",
        "    scores = []\n",
        "    for _ in range(n):\n",
        "        scores.append(list(map(int, input().split())))\n",
        "\n",
        "    scores.sort(key=lambda x: x[1]) # 2차 면접 결과 순으로 정렬\n",
        "    minn = 100001\n",
        "    count = 0\n",
        "    for i in range(len(scores)): \n",
        "        if scores[i][0] < minn:\n",
        "            minn = scores[i][0]\n",
        "            count += 1\n",
        "\n",
        "    print(count)"
      ],
      "execution_count": 14,
      "outputs": [
        {
          "output_type": "stream",
          "text": [
            "2\n",
            "5 \n",
            "3 2\n",
            "1 4\n",
            "4 1\n",
            "2 3\n",
            "5 5\n",
            "4\n",
            "7\n",
            "3 6\n",
            "7 3\n",
            "4 2\n",
            "1 4\n",
            "5 7\n",
            "2 5\n",
            "6 1\n",
            "3\n"
          ],
          "name": "stdout"
        }
      ]
    },
    {
      "cell_type": "code",
      "metadata": {
        "id": "_dDB-xoZadx7"
      },
      "source": [
        ""
      ],
      "execution_count": null,
      "outputs": []
    }
  ]
}