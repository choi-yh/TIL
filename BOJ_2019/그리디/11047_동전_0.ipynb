{
  "nbformat": 4,
  "nbformat_minor": 0,
  "metadata": {
    "colab": {
      "name": "11047. 동전 0.ipynb",
      "provenance": [],
      "authorship_tag": "ABX9TyOqlCqb5QGWWbKEHeAnV8rw",
      "include_colab_link": true
    },
    "kernelspec": {
      "name": "python3",
      "display_name": "Python 3"
    }
  },
  "cells": [
    {
      "cell_type": "markdown",
      "metadata": {
        "id": "view-in-github",
        "colab_type": "text"
      },
      "source": [
        "<a href=\"https://colab.research.google.com/github/choi-yh/BOJ/blob/master/%EA%B7%B8%EB%A6%AC%EB%94%94/11047_%EB%8F%99%EC%A0%84_0.ipynb\" target=\"_parent\"><img src=\"https://colab.research.google.com/assets/colab-badge.svg\" alt=\"Open In Colab\"/></a>"
      ]
    },
    {
      "cell_type": "markdown",
      "metadata": {
        "id": "iUCFTAMXonQ3"
      },
      "source": [
        "### 10.26\n",
        "https://www.acmicpc.net/problem/11047\n",
        "\n",
        "문제\n",
        "---\n",
        "준규가 가지고 있는 동전은 총 N종류이고, 각각의 동전을 매우 많이 가지고 있다.\n",
        "\n",
        "동전을 적절히 사용해서 그 가치의 합을 K로 만들려고 한다. 이때 필요한 동전 개수의 최솟값을 구하는 프로그램을 작성하시오.\n",
        "\n",
        "입력\n",
        "---\n",
        "첫째 줄에 N과 K가 주어진다. (1 ≤ N ≤ 10, 1 ≤ K ≤ 100,000,000)\n",
        "\n",
        "둘째 줄부터 N개의 줄에 동전의 가치 Ai가 오름차순으로 주어진다. (1 ≤ Ai ≤ 1,000,000, A1 = 1, i ≥ 2인 경우에 Ai는 Ai-1의 배수)\n",
        "\n",
        "출력\n",
        "---\n",
        "첫째 줄에 K원을 만드는데 필요한 동전 개수의 최솟값을 출력한다."
      ]
    },
    {
      "cell_type": "code",
      "metadata": {
        "id": "5bRLsp3YoxbA",
        "outputId": "2e8b0e4c-42fe-4d8b-810d-21f1c55c292e",
        "colab": {
          "base_uri": "https://localhost:8080/",
          "height": 228
        }
      },
      "source": [
        "\"\"\"\n",
        "내림차순 정렬을 한 뒤\n",
        "큰 수부터 만들 수 있는 갯수로 만들어준다.\n",
        "\"\"\"\n",
        "\n",
        "n, k = map(int, input().split())\n",
        "coins = [int(input()) for _ in range(n)]\n",
        "\n",
        "coins.reverse()\n",
        "\n",
        "result = 0\n",
        "for coin in coins:\n",
        "    if k // coin > 0:\n",
        "        result += k // coin\n",
        "        k %= coin\n",
        "print(result)"
      ],
      "execution_count": 8,
      "outputs": [
        {
          "output_type": "stream",
          "text": [
            "10 4790\n",
            "1\n",
            "5\n",
            "10\n",
            "50\n",
            "100\n",
            "500\n",
            "1000\n",
            "5000\n",
            "10000\n",
            "50000\n",
            "12\n"
          ],
          "name": "stdout"
        }
      ]
    },
    {
      "cell_type": "code",
      "metadata": {
        "id": "7nH9qWjNpJJZ"
      },
      "source": [
        ""
      ],
      "execution_count": 4,
      "outputs": []
    },
    {
      "cell_type": "code",
      "metadata": {
        "id": "szbGzZFBpRQp",
        "outputId": "ea67fdb3-ed71-4c76-d45e-df8db10ff5ef",
        "colab": {
          "base_uri": "https://localhost:8080/",
          "height": 34
        }
      },
      "source": [
        "result = 0\n",
        "for coin in coins:\n",
        "    if k // coin > 0:\n",
        "        result += k // coin\n",
        "        k %= coin\n",
        "print(result)"
      ],
      "execution_count": 6,
      "outputs": [
        {
          "output_type": "stream",
          "text": [
            "6\n"
          ],
          "name": "stdout"
        }
      ]
    },
    {
      "cell_type": "code",
      "metadata": {
        "id": "OcpZ9XWdyI6B"
      },
      "source": [
        ""
      ],
      "execution_count": null,
      "outputs": []
    }
  ]
}