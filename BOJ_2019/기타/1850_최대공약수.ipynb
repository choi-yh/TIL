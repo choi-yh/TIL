{
  "nbformat": 4,
  "nbformat_minor": 0,
  "metadata": {
    "colab": {
      "name": "1850. 최대공약수.ipynb",
      "provenance": [],
      "collapsed_sections": [],
      "authorship_tag": "ABX9TyN0MWXU6yUGCGH7tQnwBgRg",
      "include_colab_link": true
    },
    "kernelspec": {
      "name": "python3",
      "display_name": "Python 3"
    }
  },
  "cells": [
    {
      "cell_type": "markdown",
      "metadata": {
        "id": "view-in-github",
        "colab_type": "text"
      },
      "source": [
        "<a href=\"https://colab.research.google.com/github/choi-yh/BOJ/blob/master/1850_%EC%B5%9C%EB%8C%80%EA%B3%B5%EC%95%BD%EC%88%98.ipynb\" target=\"_parent\"><img src=\"https://colab.research.google.com/assets/colab-badge.svg\" alt=\"Open In Colab\"/></a>"
      ]
    },
    {
      "cell_type": "markdown",
      "metadata": {
        "id": "9lCzNrwgvPS1",
        "colab_type": "text"
      },
      "source": [
        "### 09.15\n",
        "https://www.acmicpc.net/problem/1850\n",
        "\n",
        "문제\n",
        "---\n",
        "모든 자리가 1로만 이루어져있는 두 자연수 A와 B가 주어진다. 이때, A와 B의 최대 공약수를 구하는 프로그램을 작성하시오.\n",
        "\n",
        "예를 들어, A가 111이고, B가 1111인 경우에 A와 B의 최대공약수는 1이고, A가 111이고, B가 111111인 경우에는 최대공약수가 111이다.\n",
        "\n",
        "입력\n",
        "---\n",
        "첫째 줄에 두 자연수 A와 B를 이루는 1의 개수가 주어진다. 입력되는 수는 263보다 작은 자연수이다.\n",
        "\n",
        "출력\n",
        "---\n",
        "첫째 줄에 A와 B의 최대공약수를 출력한다. 정답은 천만 자리를 넘지 않는다."
      ]
    },
    {
      "cell_type": "code",
      "metadata": {
        "id": "wMb1ARkTvY7E",
        "colab_type": "code",
        "colab": {
          "base_uri": "https://localhost:8080/",
          "height": 52
        },
        "outputId": "7a9716cb-3ae0-43ac-b901-324492cb6791"
      },
      "source": [
        "\"\"\"\n",
        "입력되는 수가 2^63보다 작은 자연수다.\n",
        "시간 초과가 계속 발생\n",
        "\"\"\"\n",
        "a, b = map(int, input().split())\n",
        "\n",
        "mod = a % b\n",
        "while mod > 0:\n",
        "    a = b\n",
        "    b = mod\n",
        "    mod = a % b\n",
        "\n",
        "print('1' * b) # integer로 바꿔주는 과정을 없애고 문자열로 출력하니 맞았다."
      ],
      "execution_count": 34,
      "outputs": [
        {
          "output_type": "stream",
          "text": [
            "3 4\n",
            "1\n"
          ],
          "name": "stdout"
        }
      ]
    },
    {
      "cell_type": "code",
      "metadata": {
        "id": "bXBCrt6Px5tj",
        "colab_type": "code",
        "colab": {}
      },
      "source": [
        ""
      ],
      "execution_count": null,
      "outputs": []
    }
  ]
}
