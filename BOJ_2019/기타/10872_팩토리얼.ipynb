{
  "nbformat": 4,
  "nbformat_minor": 0,
  "metadata": {
    "colab": {
      "name": "10872. 팩토리얼.ipynb",
      "provenance": [],
      "authorship_tag": "ABX9TyNCi96X3GWhaiX829kz/LJN",
      "include_colab_link": true
    },
    "kernelspec": {
      "name": "python3",
      "display_name": "Python 3"
    }
  },
  "cells": [
    {
      "cell_type": "markdown",
      "metadata": {
        "id": "view-in-github",
        "colab_type": "text"
      },
      "source": [
        "<a href=\"https://colab.research.google.com/github/choi-yh/BOJ/blob/master/%EA%B8%B0%ED%83%80/10872_%ED%8C%A9%ED%86%A0%EB%A6%AC%EC%96%BC.ipynb\" target=\"_parent\"><img src=\"https://colab.research.google.com/assets/colab-badge.svg\" alt=\"Open In Colab\"/></a>"
      ]
    },
    {
      "cell_type": "markdown",
      "metadata": {
        "id": "c2nxzDTAHhim",
        "colab_type": "text"
      },
      "source": [
        "### 09.17\n",
        "https://www.acmicpc.net/problem/10872\n",
        "\n",
        "문제\n",
        "---\n",
        "0보다 크거나 같은 정수 N이 주어진다. 이때, N!을 출력하는 프로그램을 작성하시오.\n",
        "\n",
        "입력\n",
        "---\n",
        "첫째 줄에 정수 N(0 ≤ N ≤ 12)가 주어진다.\n",
        "\n",
        "출력\n",
        "---\n",
        "첫째 줄에 N!을 출력한다."
      ]
    },
    {
      "cell_type": "code",
      "metadata": {
        "id": "OuaSlVGwHniN",
        "colab_type": "code",
        "colab": {
          "base_uri": "https://localhost:8080/",
          "height": 53
        },
        "outputId": "dbb6c93a-025a-4145-d8ae-1494fd952e93"
      },
      "source": [
        "\"\"\"\n",
        "기본적인 재귀 문제\n",
        "DP로도 가능하다\n",
        "\"\"\"\n",
        "\n",
        "n = int(input())\n",
        "\n",
        "def factorial(n):\n",
        "    if n == 0 or n == 1:\n",
        "        return 1\n",
        "    else:\n",
        "        return n * factorial(n-1)\n",
        "\n",
        "print(factorial(n))"
      ],
      "execution_count": 6,
      "outputs": [
        {
          "output_type": "stream",
          "text": [
            "10\n",
            "3628800\n"
          ],
          "name": "stdout"
        }
      ]
    },
    {
      "cell_type": "code",
      "metadata": {
        "id": "0h2Ej5sSH0nt",
        "colab_type": "code",
        "colab": {}
      },
      "source": [
        ""
      ],
      "execution_count": null,
      "outputs": []
    }
  ]
}