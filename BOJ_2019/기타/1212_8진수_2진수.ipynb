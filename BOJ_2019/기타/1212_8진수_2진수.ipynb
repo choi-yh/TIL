{
  "nbformat": 4,
  "nbformat_minor": 0,
  "metadata": {
    "colab": {
      "name": "1212. 8진수 2진수.ipynb",
      "provenance": [],
      "collapsed_sections": [],
      "authorship_tag": "ABX9TyMCsxL3PHCE/IaggdQbEhCu",
      "include_colab_link": true
    },
    "kernelspec": {
      "name": "python3",
      "display_name": "Python 3"
    }
  },
  "cells": [
    {
      "cell_type": "markdown",
      "metadata": {
        "id": "view-in-github",
        "colab_type": "text"
      },
      "source": [
        "<a href=\"https://colab.research.google.com/github/choi-yh/BOJ/blob/master/1212_8%EC%A7%84%EC%88%98_2%EC%A7%84%EC%88%98.ipynb\" target=\"_parent\"><img src=\"https://colab.research.google.com/assets/colab-badge.svg\" alt=\"Open In Colab\"/></a>"
      ]
    },
    {
      "cell_type": "markdown",
      "metadata": {
        "id": "_VlQmhpWhD4a",
        "colab_type": "text"
      },
      "source": [
        "### 09.16\n",
        "https://www.acmicpc.net/problem/1212\n",
        "\n",
        "문제\n",
        "---\n",
        "8진수가 주어졌을 때, 2진수로 변환하는 프로그램을 작성하시오.\n",
        "\n",
        "입력\n",
        "---\n",
        "첫째 줄에 8진수가 주어진다. 주어지는 수의 길이는 333,334을 넘지 않는다.\n",
        "\n",
        "출력\n",
        "---\n",
        "첫째 줄에 주어진 수를 2진수로 변환하여 출력한다. 수가 0인 경우를 제외하고는 반드시 1로 시작해야 한다."
      ]
    },
    {
      "cell_type": "code",
      "metadata": {
        "id": "hyE1UiFNhMYU",
        "colab_type": "code",
        "colab": {
          "base_uri": "https://localhost:8080/",
          "height": 52
        },
        "outputId": "a5016d63-0f8a-4fa3-deae-4c6d637d01b4"
      },
      "source": [
        "\"\"\"시간 초과, 내장 함수 이용 문제\"\"\"\n",
        "\n",
        "x = input()[::-1]\n",
        "\n",
        "decimal = 0\n",
        "for i in range(len(x)):\n",
        "    decimal += int(x[i]) * (8 ** i)\n",
        "\n",
        "print(bin(decimal)[2:])"
      ],
      "execution_count": 13,
      "outputs": [
        {
          "output_type": "stream",
          "text": [
            "314\n",
            "11001100\n"
          ],
          "name": "stdout"
        }
      ]
    },
    {
      "cell_type": "code",
      "metadata": {
        "id": "Qse_Nk3nh3yv",
        "colab_type": "code",
        "colab": {
          "base_uri": "https://localhost:8080/",
          "height": 52
        },
        "outputId": "b7c720ff-2c1b-4db7-b016-c11346e158ec"
      },
      "source": [
        "# int() 안에 b진수와 b를 입력하면 10진수가 나온다. 이를 다시 2진수로 변경\n",
        "print(bin(int('0o'+input(), 8))[2:])"
      ],
      "execution_count": 45,
      "outputs": [
        {
          "output_type": "stream",
          "text": [
            "314\n",
            "11001100\n"
          ],
          "name": "stdout"
        }
      ]
    },
    {
      "cell_type": "code",
      "metadata": {
        "id": "_51KJNjTlbEu",
        "colab_type": "code",
        "colab": {}
      },
      "source": [
        ""
      ],
      "execution_count": null,
      "outputs": []
    }
  ]
}
