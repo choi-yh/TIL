{
  "nbformat": 4,
  "nbformat_minor": 0,
  "metadata": {
    "colab": {
      "name": "14503. 로봇 청소기.ipynb",
      "provenance": [],
      "collapsed_sections": [],
      "authorship_tag": "ABX9TyOdzGaN9xUaaZPQH6mpPkDU",
      "include_colab_link": true
    },
    "kernelspec": {
      "name": "python3",
      "display_name": "Python 3"
    }
  },
  "cells": [
    {
      "cell_type": "markdown",
      "metadata": {
        "id": "view-in-github",
        "colab_type": "text"
      },
      "source": [
        "<a href=\"https://colab.research.google.com/github/choi-yh/BOJ/blob/master/%EA%B5%AC%ED%98%84/14503_%EB%A1%9C%EB%B4%87_%EC%B2%AD%EC%86%8C%EA%B8%B0.ipynb\" target=\"_parent\"><img src=\"https://colab.research.google.com/assets/colab-badge.svg\" alt=\"Open In Colab\"/></a>"
      ]
    },
    {
      "cell_type": "markdown",
      "metadata": {
        "id": "PX7MOZ0BDobK"
      },
      "source": [
        "### 11.05\n",
        "https://www.acmicpc.net/problem/14503\n",
        "\n",
        "문제\n",
        "---\n",
        "로봇 청소기가 주어졌을 때, 청소하는 영역의 개수를 구하는 프로그램을 작성하시오.\n",
        "\n",
        "로봇 청소기가 있는 장소는 N×M 크기의 직사각형으로 나타낼 수 있으며, 1×1크기의 정사각형 칸으로 나누어져 있다. 각각의 칸은 벽 또는 빈 칸이다. 청소기는 바라보는 방향이 있으며, 이 방향은 동, 서, 남, 북중 하나이다. 지도의 각 칸은 (r, c)로 나타낼 수 있고, r은 북쪽으로부터 떨어진 칸의 개수, c는 서쪽으로 부터 떨어진 칸의 개수이다.\n",
        "\n",
        "로봇 청소기는 다음과 같이 작동한다.\n",
        "\n",
        "1. 현재 위치를 청소한다.\n",
        "2. 현재 위치에서 현재 방향을 기준으로 왼쪽방향부터 차례대로 탐색을 진행한다.\n",
        "    1. 왼쪽 방향에 아직 청소하지 않은 공간이 존재한다면, 그 방향으로 회전한 다음 한 칸을 전진하고 1번부터 진행한다.\n",
        "    2. 왼쪽 방향에 청소할 공간이 없다면, 그 방향으로 회전하고 2번으로 돌아간다.\n",
        "    3. 네 방향 모두 청소가 이미 되어있거나 벽인 경우에는, 바라보는 방향을 유지한 채로 한 칸 후진을 하고 2번으로 돌아간다.\n",
        "    4. 네 방향 모두 청소가 이미 되어있거나 벽이면서, 뒤쪽 방향이 벽이라 후진도 할 수 없는 경우에는 작동을 멈춘다.  \n",
        "    \n",
        "로봇 청소기는 이미 청소되어있는 칸을 또 청소하지 않으며, 벽을 통과할 수 없다.\n",
        "\n",
        "입력\n",
        "---\n",
        "첫째 줄에 세로 크기 N과 가로 크기 M이 주어진다. (3 ≤ N, M ≤ 50)\n",
        "\n",
        "둘째 줄에 로봇 청소기가 있는 칸의 좌표 (r, c)와 바라보는 방향 d가 주어진다. d가 0인 경우에는 북쪽을, 1인 경우에는 동쪽을, 2인 경우에는 남쪽을, 3인 경우에는 서쪽을 바라보고 있는 것이다.\n",
        "\n",
        "셋째 줄부터 N개의 줄에 장소의 상태가 북쪽부터 남쪽 순서대로, 각 줄은 서쪽부터 동쪽 순서대로 주어진다. 빈 칸은 0, 벽은 1로 주어진다. 지도의 첫 행, 마지막 행, 첫 열, 마지막 열에 있는 모든 칸은 벽이다.\n",
        "\n",
        "로봇 청소기가 있는 칸의 상태는 항상 빈 칸이다.\n",
        "\n",
        "출력\n",
        "---\n",
        "로봇 청소기가 청소하는 칸의 개수를 출력한다."
      ]
    },
    {
      "cell_type": "code",
      "metadata": {
        "id": "FAQcjtq-mTkw",
        "outputId": "29a67604-38fc-4575-da40-130ad4212fd4",
        "colab": {
          "base_uri": "https://localhost:8080/"
        }
      },
      "source": [
        "# 입력받기\n",
        "n, m = map(int, input().split())\n",
        "r, c, d = map(int, input().split())\n",
        "\n",
        "data = [list(map(int, input().split())) for _ in range(n)]\n",
        "\n",
        "# 초기 설정\n",
        "data[r][c] = -1 # 시작점 청소\n",
        "cnt = 1\n",
        "rotation_count = 0\n",
        "\n",
        "# 돌린 방향에서의 움직임\n",
        "dr = [-1, 0, 1, 0]\n",
        "dc = [0, 1, 0, -1]\n",
        "\n",
        "while True:\n",
        "    # 회전 후 이동\n",
        "    if d == 0:\n",
        "        d = 3\n",
        "    else:\n",
        "        d -= 1\n",
        "    rotation_count += 1\n",
        "    \n",
        "    nr = r + dr[d]\n",
        "    nc = c + dc[d]\n",
        "\n",
        "    if data[nr][nc] == 0:\n",
        "        # 청소\n",
        "        data[nr][nc] = -1\n",
        "        cnt += 1\n",
        "        \n",
        "        # 이동\n",
        "        r, c = nr, nc\n",
        "        rotation_count = 0\n",
        "        continue\n",
        "    \n",
        "    if rotation_count < 4:\n",
        "        continue\n",
        "    else: # 4 방향 모두 확인한 경우\n",
        "        opp_d = (d + 2) % 4 # 반대 방향으로 돌리기\n",
        "        tmp_r = r + dr[opp_d]\n",
        "        tmp_c = c + dc[opp_d]\n",
        "        if data[tmp_r][tmp_c] == 1:\n",
        "            break\n",
        "        else:\n",
        "            r, c = tmp_r, tmp_c\n",
        "            rotation_count = 0\n",
        "\n",
        "print(cnt)"
      ],
      "execution_count": 43,
      "outputs": [
        {
          "output_type": "stream",
          "text": [
            "11 10\n",
            "7 4 0\n",
            "1 1 1 1 1 1 1 1 1 1\n",
            "1 0 0 0 0 0 0 0 0 1\n",
            "1 0 0 0 1 1 1 1 0 1\n",
            "1 0 0 1 1 0 0 0 0 1\n",
            "1 0 1 1 0 0 0 0 0 1\n",
            "1 0 0 0 0 0 0 0 0 1\n",
            "1 0 0 0 0 0 0 1 0 1\n",
            "1 0 0 0 0 0 1 1 0 1\n",
            "1 0 0 0 0 0 1 1 0 1\n",
            "1 0 0 0 0 0 0 0 0 1\n",
            "1 1 1 1 1 1 1 1 1 1\n",
            "57\n"
          ],
          "name": "stdout"
        }
      ]
    },
    {
      "cell_type": "code",
      "metadata": {
        "id": "ZIFJUW6fv9kG"
      },
      "source": [
        ""
      ],
      "execution_count": null,
      "outputs": []
    }
  ]
}