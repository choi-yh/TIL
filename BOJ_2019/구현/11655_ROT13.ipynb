{
  "nbformat": 4,
  "nbformat_minor": 0,
  "metadata": {
    "colab": {
      "name": "11655. ROT13.ipynb",
      "provenance": [],
      "collapsed_sections": [],
      "authorship_tag": "ABX9TyOl+Qo+Dy1mGL4sqVSrN4PW",
      "include_colab_link": true
    },
    "kernelspec": {
      "name": "python3",
      "display_name": "Python 3"
    }
  },
  "cells": [
    {
      "cell_type": "markdown",
      "metadata": {
        "id": "view-in-github",
        "colab_type": "text"
      },
      "source": [
        "<a href=\"https://colab.research.google.com/github/choi-yh/BOJ/blob/master/11655_ROT13.ipynb\" target=\"_parent\"><img src=\"https://colab.research.google.com/assets/colab-badge.svg\" alt=\"Open In Colab\"/></a>"
      ]
    },
    {
      "cell_type": "markdown",
      "metadata": {
        "id": "Dg-E0_BK_cMe",
        "colab_type": "text"
      },
      "source": [
        "### 09.10\n",
        "\n",
        "문제\n",
        "---\n",
        "ROT13은 카이사르 암호의 일종으로 영어 알파벳을 13글자씩 밀어서 만든다.\n",
        "\n",
        "예를 들어, \"Baekjoon Online Judge\"를 ROT13으로 암호화하면 \"Onrxwbba Bayvar Whqtr\"가 된다. ROT13으로 암호화한 내용을 원래 내용으로 바꾸려면 암호화한 문자열을 다시 ROT13하면 된다. 앞에서 암호화한 문자열 \"Onrxwbba Bayvar Whqtr\"에 다시 ROT13을 적용하면 \"Baekjoon Online Judge\"가 된다.\n",
        "\n",
        "ROT13은 알파벳 대문자와 소문자에만 적용할 수 있다. 알파벳이 아닌 글자는 원래 글자 그대로 남아 있어야 한다. 예를 들어, \"One is 1\"을 ROT13으로 암호화하면 \"Bar vf 1\"이 된다.\n",
        "\n",
        "문자열이 주어졌을 때, \"ROT13\"으로 암호화한 다음 출력하는 프로그램을 작성하시오.\n",
        "\n",
        "\n",
        "입력\n",
        "---\n",
        "첫째 줄에 알파벳 대문자, 소문자, 공백, 숫자로만 이루어진 문자열 S가 주어진다. S의 길이는 100을 넘지 않는다.\n",
        "\n",
        "출력\n",
        "---\n",
        "첫째 줄에 S를 ROT13으로 암호화한 내용을 출력한다."
      ]
    },
    {
      "cell_type": "code",
      "metadata": {
        "id": "Up7QrBZV_nY0",
        "colab_type": "code",
        "colab": {
          "base_uri": "https://localhost:8080/",
          "height": 53
        },
        "outputId": "629607d8-4711-485c-b346-ebce0c5e3ab8"
      },
      "source": [
        "\"\"\"\n",
        "아스키 코드 이용해서 13개씩 밀어주고 넘어갈 경우 처음부터 시작한다.\n",
        "나처럼 넘어가는 경우만 하지않고 26으로 나눈 나머지 이용하는 방법이 더 좋아보인다.\n",
        "chr(ord('a') + (ord(word) - ord('a') + 13) % 26))\n",
        "\"\"\"\n",
        "s = input()\n",
        "rot = ''\n",
        "\n",
        "for word in s:\n",
        "    new_word = chr(ord(word) + 13)\n",
        "    if word >= 'A' and word <= 'Z': # 대문자\n",
        "        if new_word > 'Z':\n",
        "            new_word = chr(ord(new_word) - ord('Z') + ord('A') -1)\n",
        "    elif word >= 'a' and word <= 'z': # 소문자\n",
        "        if new_word > 'z':\n",
        "            new_word = chr(ord(new_word) - ord('z') + ord('a') -1)\n",
        "    else:\n",
        "        new_word = word\n",
        "\n",
        "    rot += new_word\n",
        "\n",
        "print(rot)"
      ],
      "execution_count": 27,
      "outputs": [
        {
          "output_type": "stream",
          "text": [
            "m\n",
            "z\n"
          ],
          "name": "stdout"
        }
      ]
    },
    {
      "cell_type": "code",
      "metadata": {
        "id": "8HYqA_ffAgLh",
        "colab_type": "code",
        "colab": {
          "base_uri": "https://localhost:8080/",
          "height": 35
        },
        "outputId": "bee2fb9c-4179-40cb-a502-e751c2c75ca2"
      },
      "source": [
        "chr((ord('u') + 13) - ord('z') + ord('a'))"
      ],
      "execution_count": 15,
      "outputs": [
        {
          "output_type": "execute_result",
          "data": {
            "application/vnd.google.colaboratory.intrinsic+json": {
              "type": "string"
            },
            "text/plain": [
              "'i'"
            ]
          },
          "metadata": {
            "tags": []
          },
          "execution_count": 15
        }
      ]
    },
    {
      "cell_type": "code",
      "metadata": {
        "id": "fwcEhP43D4Ia",
        "colab_type": "code",
        "colab": {}
      },
      "source": [
        ""
      ],
      "execution_count": null,
      "outputs": []
    }
  ]
}
