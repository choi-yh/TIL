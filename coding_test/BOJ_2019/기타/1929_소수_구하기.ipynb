{
  "nbformat": 4,
  "nbformat_minor": 0,
  "metadata": {
    "colab": {
      "name": "1929. 소수 구하기.ipynb",
      "provenance": [],
      "collapsed_sections": [],
      "authorship_tag": "ABX9TyPaTFVGhYCKZd7t80J3egUv",
      "include_colab_link": true
    },
    "kernelspec": {
      "name": "python3",
      "display_name": "Python 3"
    }
  },
  "cells": [
    {
      "cell_type": "markdown",
      "metadata": {
        "id": "view-in-github",
        "colab_type": "text"
      },
      "source": [
        "<a href=\"https://colab.research.google.com/github/choi-yh/BOJ/blob/master/%EA%B8%B0%ED%83%80/1929_%EC%86%8C%EC%88%98_%EA%B5%AC%ED%95%98%EA%B8%B0.ipynb\" target=\"_parent\"><img src=\"https://colab.research.google.com/assets/colab-badge.svg\" alt=\"Open In Colab\"/></a>"
      ]
    },
    {
      "cell_type": "markdown",
      "metadata": {
        "id": "jbT6EOJwRvzw",
        "colab_type": "text"
      },
      "source": [
        "### 09.16\n",
        "https://www.acmicpc.net/problem/1929\n",
        "\n",
        "문제\n",
        "---\n",
        "M이상 N이하의 소수를 모두 출력하는 프로그램을 작성하시오.\n",
        "\n",
        "입력\n",
        "---\n",
        "첫째 줄에 자연수 M과 N이 빈 칸을 사이에 두고 주어진다. (1 ≤ M ≤ N ≤ 1,000,000) M이상 N이하의 소수가 하나 이상 있는 입력만 주어진다.\n",
        "\n",
        "출력\n",
        "---\n",
        "한 줄에 하나씩, 증가하는 순서대로 소수를 출력한다.\n",
        "\n"
      ]
    },
    {
      "cell_type": "code",
      "metadata": {
        "id": "JoiIyIvWSYj7",
        "colab_type": "code",
        "colab": {
          "base_uri": "https://localhost:8080/",
          "height": 122
        },
        "outputId": "5b24b15f-bebf-4e6d-927a-37a50fe692c4"
      },
      "source": [
        "\"\"\"\n",
        "최댓값이 1,000,000이라 이 사이의 모든 소수를 구하는 방법은 시간 초과\n",
        "해당 값이 소수인지 확인하는 함수 이용해서 풀기\n",
        "\"\"\"\n",
        "import math\n",
        "m, n = map(int, input().split())\n",
        "\n",
        "# 소수 확인 함수\n",
        "def is_prime(n): \n",
        "    if n == 1:\n",
        "        return False\n",
        "    for i in range(2, int(math.sqrt(n)) + 1): # 제곱해서 본인이 나오기 전까지만 확인하면 된다.\n",
        "        if n % i == 0:\n",
        "            return False\n",
        "    return True\n",
        "\n",
        "for i in range(m, n+1):\n",
        "    if is_prime(i):\n",
        "        print(i)"
      ],
      "execution_count": 12,
      "outputs": [
        {
          "output_type": "stream",
          "text": [
            "3 16\n",
            "3\n",
            "5\n",
            "7\n",
            "11\n",
            "13\n"
          ],
          "name": "stdout"
        }
      ]
    },
    {
      "cell_type": "code",
      "metadata": {
        "id": "JWnkM0sHVw0m",
        "colab_type": "code",
        "colab": {}
      },
      "source": [
        ""
      ],
      "execution_count": null,
      "outputs": []
    }
  ]
}