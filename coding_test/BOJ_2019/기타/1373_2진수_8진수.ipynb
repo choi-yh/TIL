{
  "nbformat": 4,
  "nbformat_minor": 0,
  "metadata": {
    "colab": {
      "name": "1373. 2진수 8진수.ipynb",
      "provenance": [],
      "collapsed_sections": [],
      "authorship_tag": "ABX9TyMCamoIwc4Swav9xbxA8fz5",
      "include_colab_link": true
    },
    "kernelspec": {
      "name": "python3",
      "display_name": "Python 3"
    }
  },
  "cells": [
    {
      "cell_type": "markdown",
      "metadata": {
        "id": "view-in-github",
        "colab_type": "text"
      },
      "source": [
        "<a href=\"https://colab.research.google.com/github/choi-yh/BOJ/blob/master/1373_2%EC%A7%84%EC%88%98_8%EC%A7%84%EC%88%98.ipynb\" target=\"_parent\"><img src=\"https://colab.research.google.com/assets/colab-badge.svg\" alt=\"Open In Colab\"/></a>"
      ]
    },
    {
      "cell_type": "markdown",
      "metadata": {
        "id": "MB4DrGEQZRLF",
        "colab_type": "text"
      },
      "source": [
        "### 09.16\n",
        "https://www.acmicpc.net/problem/1373\n",
        "\n",
        "문제\n",
        "---\n",
        "2진수가 주어졌을 때, 8진수로 변환하는 프로그램을 작성하시오.\n",
        "\n",
        "입력\n",
        "---\n",
        "첫째 줄에 2진수가 주어진다. 주어지는 수의 길이는 1,000,000을 넘지 않는다.\n",
        "\n",
        "출력\n",
        "---\n",
        "첫째 줄에 주어진 수를 8진수로 변환하여 출력한다."
      ]
    },
    {
      "cell_type": "code",
      "metadata": {
        "id": "SY94lOKTZlIv",
        "colab_type": "code",
        "colab": {
          "base_uri": "https://localhost:8080/",
          "height": 52
        },
        "outputId": "776e4adc-34f3-4ee7-8be0-5e75fd55dc1d"
      },
      "source": [
        "# 2진수를 먼저 10진수로\n",
        "def binary_to_decimal(x): # x는 문자열로 입력받는다\n",
        "    x = x[::-1] # 연산을 위해 문자열로 변환 후 reverse\n",
        "    result = 0\n",
        "    for i in range(len(x)):\n",
        "        result += int(x[i]) * (2**i)\n",
        "    return result\n",
        "\n",
        "# 변환된 10진수를 8진수로\n",
        "def decimal_to_octal(x):\n",
        "    result = ''\n",
        "    while x > 0:\n",
        "        result = str(x % 8) + result\n",
        "        x //= 8\n",
        "    return result # 최종 문자열도 그대로 출력\n",
        "\n",
        "bin = input()\n",
        "tmp = binary_to_decimal(bin)\n",
        "print(decimal_to_octal(tmp))"
      ],
      "execution_count": 6,
      "outputs": [
        {
          "output_type": "stream",
          "text": [
            "1000000\n",
            "100\n"
          ],
          "name": "stdout"
        }
      ]
    },
    {
      "cell_type": "code",
      "metadata": {
        "id": "TWzN2GO_aSfS",
        "colab_type": "code",
        "colab": {
          "base_uri": "https://localhost:8080/",
          "height": 52
        },
        "outputId": "67d777e5-3158-4604-d03e-5324b78f3984"
      },
      "source": [
        "x = input()\n",
        "\n",
        "decimal = 0\n",
        "for i in range(len(x)-1, -1, -1): # 문자열 reverse를 생략하고 함수도 생략\n",
        "    decimal += int(x[i]) * (2**(len(x) -1 -i))\n",
        "\n",
        "octal = ''\n",
        "while decimal > 0:\n",
        "    octal = str(decimal % 8) + octal\n",
        "    decimal //= 8\n",
        "\n",
        "print(octal)"
      ],
      "execution_count": 9,
      "outputs": [
        {
          "output_type": "stream",
          "text": [
            "11001100\n",
            "314\n"
          ],
          "name": "stdout"
        }
      ]
    },
    {
      "cell_type": "code",
      "metadata": {
        "id": "RnJTmjYiea4M",
        "colab_type": "code",
        "colab": {
          "base_uri": "https://localhost:8080/",
          "height": 52
        },
        "outputId": "b38af39a-c6c9-488a-e4c8-e96d3b3d7c49"
      },
      "source": [
        "\"\"\"\n",
        "내장함수 사용\n",
        "int 함수에서 두번째 인자가 몇진수로 받을건지 의미한다.\n",
        "oct에서 앞에 Oo 두 문자 삭제 후 출력\n",
        "\"\"\"\n",
        "print(oct(int(input(), 2))[2:])"
      ],
      "execution_count": 11,
      "outputs": [
        {
          "output_type": "stream",
          "text": [
            "11001100\n",
            "314\n"
          ],
          "name": "stdout"
        }
      ]
    },
    {
      "cell_type": "code",
      "metadata": {
        "id": "LBWa0SqOgqX_",
        "colab_type": "code",
        "colab": {}
      },
      "source": [
        ""
      ],
      "execution_count": null,
      "outputs": []
    }
  ]
}
