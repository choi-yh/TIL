{
  "nbformat": 4,
  "nbformat_minor": 0,
  "metadata": {
    "colab": {
      "name": "1406. 에디터.ipynb",
      "provenance": [],
      "collapsed_sections": [],
      "authorship_tag": "ABX9TyMcgtIivDtlm1XiNgUvim4x",
      "include_colab_link": true
    },
    "kernelspec": {
      "name": "python3",
      "display_name": "Python 3"
    }
  },
  "cells": [
    {
      "cell_type": "markdown",
      "metadata": {
        "id": "view-in-github",
        "colab_type": "text"
      },
      "source": [
        "<a href=\"https://colab.research.google.com/github/choi-yh/BOJ/blob/master/1406_%EC%97%90%EB%94%94%ED%84%B0.ipynb\" target=\"_parent\"><img src=\"https://colab.research.google.com/assets/colab-badge.svg\" alt=\"Open In Colab\"/></a>"
      ]
    },
    {
      "cell_type": "markdown",
      "metadata": {
        "id": "-kYXTbh-FYMT",
        "colab_type": "text"
      },
      "source": [
        "### 09.14\n",
        "https://www.acmicpc.net/problem/1406\n",
        "\n",
        "문제\n",
        "---\n",
        "한 줄로 된 간단한 에디터를 구현하려고 한다. 이 편집기는 영어 소문자만을 기록할 수 있는 편집기로, 최대 600,000글자까지 입력할 수 있다.\n",
        "\n",
        "이 편집기에는 '커서'라는 것이 있는데, 커서는 문장의 맨 앞(첫 번째 문자의 왼쪽), 문장의 맨 뒤(마지막 문자의 오른쪽), 또는 문장 중간 임의의 곳(모든 연속된 두 문자 사이)에 위치할 수 있다. 즉 길이가 L인 문자열이 현재 편집기에 입력되어 있으면, 커서가 위치할 수 있는 곳은 L+1가지 경우가 있다.\n",
        "\n",
        "이 편집기가 지원하는 명령어는 다음과 같다.\n",
        "\n",
        "L\t커서를 왼쪽으로 한 칸 옮김 (커서가 문장의 맨 앞이면 무시됨)\n",
        "D\t커서를 오른쪽으로 한 칸 옮김 (커서가 문장의 맨 뒤이면 무시됨)\n",
        "B\t커서 왼쪽에 있는 문자를 삭제함 (커서가 문장의 맨 앞이면 무시됨)\n",
        "삭제로 인해 커서는 한 칸 왼쪽으로 이동한 것처럼 나타나지만, 실제로 커서의 오른쪽에 있던 문자는 그대로임\n",
        "P $\t$라는 문자를 커서 왼쪽에 추가함\n",
        "초기에 편집기에 입력되어 있는 문자열이 주어지고, 그 이후 입력한 명령어가 차례로 주어졌을 때, 모든 명령어를 수행하고 난 후 편집기에 입력되어 있는 문자열을 구하는 프로그램을 작성하시오. 단, 명령어가 수행되기 전에 커서는 문장의 맨 뒤에 위치하고 있다고 한다.\n",
        "\n",
        "입력\n",
        "---\n",
        "첫째 줄에는 초기에 편집기에 입력되어 있는 문자열이 주어진다. 이 문자열은 길이가 N이고, 영어 소문자로만 이루어져 있으며, 길이는 100,000을 넘지 않는다. 둘째 줄에는 입력할 명령어의 개수를 나타내는 정수 M(1 ≤ M ≤ 500,000)이 주어진다. 셋째 줄부터 M개의 줄에 걸쳐 입력할 명령어가 순서대로 주어진다. 명령어는 위의 네 가지 중 하나의 형태로만 주어진다.\n",
        "\n",
        "출력\n",
        "---\n",
        "첫째 줄에 모든 명령어를 수행하고 난 후 편집기에 입력되어 있는 문자열을 출력한다."
      ]
    },
    {
      "cell_type": "code",
      "metadata": {
        "id": "Tt0WjdEdGwbI",
        "colab_type": "code",
        "colab": {
          "base_uri": "https://localhost:8080/",
          "height": 233
        },
        "outputId": "1b17ff1c-b664-4734-89c2-b371ba980f44"
      },
      "source": [
        "\"\"\"\n",
        "pypy3로 돌리니 틀리고 python3는 시간 초과\n",
        "stack 말고 문자열로 바로 써볼까\n",
        "\"\"\"\n",
        "\n",
        "s = input()\n",
        "n = int(input())\n",
        "\n",
        "stack = ''\n",
        "\n",
        "for _ in range(n):\n",
        "    order = input()\n",
        "    if order == 'L':\n",
        "        if len(s) == 0:\n",
        "            pass\n",
        "        else:\n",
        "            stack = s[-1] + stack\n",
        "            s = s.replace(s[-1], '')\n",
        "    elif order == 'D':\n",
        "        if len(stack) != 0:\n",
        "            s += stack[0]\n",
        "            stack = stack.replace(stack[0], '')\n",
        "    elif order == 'B':\n",
        "        if len(s) != 0: # 문장의 맨 앞이라면 모든 원소가 stack에 있다.\n",
        "            s = s.replace(s[-1], '')\n",
        "    else: # P & 일 경우\n",
        "        s += order.split()[1]\n",
        "\n",
        "# while len(end_stack) > 0:\n",
        "#     s += end_stack.pop()\n",
        "s += stack\n",
        "\n",
        "print(s)"
      ],
      "execution_count": 7,
      "outputs": [
        {
          "output_type": "stream",
          "text": [
            "abc\n",
            "9\n",
            "L\n",
            "L\n",
            "L\n",
            "L\n",
            "L\n",
            "P x\n",
            "L\n",
            "B\n",
            "P y\n",
            "yxabc\n"
          ],
          "name": "stdout"
        }
      ]
    },
    {
      "cell_type": "code",
      "metadata": {
        "id": "YhcXYm3Og5EG",
        "colab_type": "code",
        "colab": {
          "base_uri": "https://localhost:8080/",
          "height": 233
        },
        "outputId": "8bf9a841-d405-47d9-e8db-3d7d5c53805f"
      },
      "source": [
        "\"\"\"\n",
        "스택을 쓰는것이 맞는 것 같은데 다시 구현해보자\n",
        "이건 맞네 (위 코드 마지막 while문으로 더해주는 방법이 잘못된듯하다.)\n",
        "list(문자열) => 리스트에 각 문자별로 입력, \n",
        "join => 리스트 원소를 문자열로\n",
        "\"\"\"\n",
        "s = input()\n",
        "n = int(input())\n",
        "\n",
        "first_stack = list(s)\n",
        "second_stack = []\n",
        "for _ in range(n):\n",
        "    order = input()\n",
        "    if order == 'L':\n",
        "        if len(first_stack) != 0:\n",
        "            second_stack.append(first_stack.pop())\n",
        "    elif order == 'D':\n",
        "        if len(second_stack) != 0:\n",
        "            first_stack.append(second_stack.pop())\n",
        "    elif order == 'B':\n",
        "        if len(first_stack) != 0:\n",
        "            first_stack.pop()\n",
        "    else:\n",
        "        first_stack.append(order[2])\n",
        "\n",
        "print(''.join(first_stack) + ''.join(reversed(second_stack)))"
      ],
      "execution_count": 24,
      "outputs": [
        {
          "output_type": "stream",
          "text": [
            "abc\n",
            "9\n",
            "L\n",
            "L\n",
            "L\n",
            "L\n",
            "L\n",
            "P x\n",
            "L\n",
            "B\n",
            "P y\n",
            "yxabc\n"
          ],
          "name": "stdout"
        }
      ]
    },
    {
      "cell_type": "code",
      "metadata": {
        "id": "8hFelLnmTZnP",
        "colab_type": "code",
        "colab": {}
      },
      "source": [
        ""
      ],
      "execution_count": null,
      "outputs": []
    }
  ]
}
