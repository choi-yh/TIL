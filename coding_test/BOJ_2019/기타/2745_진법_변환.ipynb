{
  "nbformat": 4,
  "nbformat_minor": 0,
  "metadata": {
    "colab": {
      "name": "2745. 진법 변환.ipynb",
      "provenance": [],
      "collapsed_sections": [],
      "authorship_tag": "ABX9TyOqI/0aK2uwwNJVxVpTrxv9",
      "include_colab_link": true
    },
    "kernelspec": {
      "name": "python3",
      "display_name": "Python 3"
    }
  },
  "cells": [
    {
      "cell_type": "markdown",
      "metadata": {
        "id": "view-in-github",
        "colab_type": "text"
      },
      "source": [
        "<a href=\"https://colab.research.google.com/github/choi-yh/BOJ/blob/master/2745_%EC%A7%84%EB%B2%95_%EB%B3%80%ED%99%98.ipynb\" target=\"_parent\"><img src=\"https://colab.research.google.com/assets/colab-badge.svg\" alt=\"Open In Colab\"/></a>"
      ]
    },
    {
      "cell_type": "markdown",
      "metadata": {
        "id": "4inEhlZuv2Rm",
        "colab_type": "text"
      },
      "source": [
        "### 09.15\n",
        "https://www.acmicpc.net/problem/2745\n",
        "\n",
        "문제\n",
        "---\n",
        "B진법 수 N이 주어진다. 이 수를 10진법으로 바꿔 출력하는 프로그램을 작성하시오.\n",
        "\n",
        "10진법을 넘어가는 진법은 숫자로 표시할 수 없는 자리가 있다. 이런 경우에는 다음과 같이 알파벳 대문자를 사용한다.\n",
        "\n",
        "A: 10, B: 11, ..., F: 15, ..., Y: 34, Z: 35\n",
        "\n",
        "입력\n",
        "---\n",
        "첫째 줄에 N과 B가 주어진다. (2 ≤ B ≤ 36)\n",
        "\n",
        "B진법 수 N을 10진법으로 바꾸면, 항상 10억보다 작거나 같다.\n",
        "\n",
        "출력\n",
        "---\n",
        "첫째 줄에 B진법 수 N을 10진법으로 출력한다."
      ]
    },
    {
      "cell_type": "code",
      "metadata": {
        "id": "YvmRvDMrv_F5",
        "colab_type": "code",
        "colab": {
          "base_uri": "https://localhost:8080/",
          "height": 52
        },
        "outputId": "775acf4c-e2df-4dbf-d210-6a012dc56b93"
      },
      "source": [
        "import sys\n",
        "n, b = input().split()\n",
        "n = n[::-1] # 뒤집어서 하나씩 변경\n",
        "b = int(b)\n",
        "\n",
        "result = 0\n",
        "for i in range(len(n)):\n",
        "    if n[i] >= 'A' and n[i] <= 'Z':# 문자일 경우 숫자로 바꾼 뒤 b진법으로\n",
        "        num = int(ord(n[i]) - ord('A') + 10)\n",
        "        result += num * (b**i)\n",
        "    else: # 숫자일 경우 바로 b진법 연산\n",
        "        result += int(n[i]) * (b**i)\n",
        "\n",
        "print(result)"
      ],
      "execution_count": 16,
      "outputs": [
        {
          "output_type": "stream",
          "text": [
            "ZZZZZ 36\n",
            "60466175\n"
          ],
          "name": "stdout"
        }
      ]
    },
    {
      "cell_type": "code",
      "metadata": {
        "id": "gCsPTEp7ApXf",
        "colab_type": "code",
        "colab": {}
      },
      "source": [
        ""
      ],
      "execution_count": null,
      "outputs": []
    }
  ]
}
