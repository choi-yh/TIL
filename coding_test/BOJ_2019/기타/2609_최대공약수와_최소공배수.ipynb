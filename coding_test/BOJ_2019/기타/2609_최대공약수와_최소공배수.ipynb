{
  "nbformat": 4,
  "nbformat_minor": 0,
  "metadata": {
    "colab": {
      "name": "2609. 최대공약수와 최소공배수.ipynb",
      "provenance": [],
      "collapsed_sections": [],
      "authorship_tag": "ABX9TyODGifjrikbk2jgxcXJDxub",
      "include_colab_link": true
    },
    "kernelspec": {
      "name": "python3",
      "display_name": "Python 3"
    }
  },
  "cells": [
    {
      "cell_type": "markdown",
      "metadata": {
        "id": "view-in-github",
        "colab_type": "text"
      },
      "source": [
        "<a href=\"https://colab.research.google.com/github/choi-yh/BOJ/blob/master/2609_%EC%B5%9C%EB%8C%80%EA%B3%B5%EC%95%BD%EC%88%98%EC%99%80_%EC%B5%9C%EC%86%8C%EA%B3%B5%EB%B0%B0%EC%88%98.ipynb\" target=\"_parent\"><img src=\"https://colab.research.google.com/assets/colab-badge.svg\" alt=\"Open In Colab\"/></a>"
      ]
    },
    {
      "cell_type": "markdown",
      "metadata": {
        "id": "ibkjBz6Y5MiB",
        "colab_type": "text"
      },
      "source": [
        "### 09.14\n",
        "https://www.acmicpc.net/problem/2609\n",
        "\n",
        "문제\n",
        "---\n",
        "두 개의 자연수를 입력받아 최대 공약수와 최소 공배수를 출력하는 프로그램을 작성하시오.\n",
        "\n",
        "입력\n",
        "---\n",
        "첫째 줄에는 두 개의 자연수가 주어진다. 이 둘은 10,000이하의 자연수이며 사이에 한 칸의 공백이 주어진다.\n",
        "\n",
        "출력\n",
        "---\n",
        "첫째 줄에는 입력으로 주어진 두 수의 최대공약수를, 둘째 줄에는 입력으로 주어진 두 수의 최소 공배수를 출력한다."
      ]
    },
    {
      "cell_type": "code",
      "metadata": {
        "id": "wbmkFMYG5UCG",
        "colab_type": "code",
        "colab": {
          "base_uri": "https://localhost:8080/",
          "height": 71
        },
        "outputId": "0998a649-5d71-488f-ccb1-cee559203c68"
      },
      "source": [
        "\"\"\"\n",
        "다른 아이디어가 떠오르지 않아서 처음부터 gcd를 찾고 gcd를 이용해서 lcm을 찾았다.\n",
        "(자연수가 10000 이하의 자연수라서 시간제한이 걸릴 것 같지 않았다.)\n",
        "\n",
        "대부분 유클리드 호제법을 이용했다.\n",
        "a, b 중 큰 수로 나누고 나머지가 0이 될 때까지\n",
        "작은 값을 나머지로 나누는 과정을 반복해서 0이 되기 이전 값이 gcd이다.\n",
        "\"\"\"\n",
        "\n",
        "a, b = map(int, input().split())\n",
        "\n",
        "gcd = 1\n",
        "for i in range(1, min(a, b)+1):\n",
        "    if a % i == 0 and b % i == 0:\n",
        "        gcd = i\n",
        "\n",
        "lcm = gcd * (a // gcd) * (b // gcd)\n",
        "\n",
        "print(gcd)\n",
        "print(lcm)"
      ],
      "execution_count": 7,
      "outputs": [
        {
          "output_type": "stream",
          "text": [
            "24 6\n",
            "3\n",
            "48\n"
          ],
          "name": "stdout"
        }
      ]
    },
    {
      "cell_type": "code",
      "metadata": {
        "id": "SEbYoi256BRV",
        "colab_type": "code",
        "colab": {}
      },
      "source": [
        ""
      ],
      "execution_count": null,
      "outputs": []
    }
  ]
}
