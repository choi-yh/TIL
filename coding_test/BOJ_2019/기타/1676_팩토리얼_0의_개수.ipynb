{
  "nbformat": 4,
  "nbformat_minor": 0,
  "metadata": {
    "colab": {
      "name": "1676. 팩토리얼 0의 개수.ipynb",
      "provenance": [],
      "authorship_tag": "ABX9TyOjn61dKbrvgfPmCM3nTbpK",
      "include_colab_link": true
    },
    "kernelspec": {
      "name": "python3",
      "display_name": "Python 3"
    }
  },
  "cells": [
    {
      "cell_type": "markdown",
      "metadata": {
        "id": "view-in-github",
        "colab_type": "text"
      },
      "source": [
        "<a href=\"https://colab.research.google.com/github/choi-yh/BOJ/blob/master/%EA%B8%B0%ED%83%80/1676_%ED%8C%A9%ED%86%A0%EB%A6%AC%EC%96%BC_0%EC%9D%98_%EA%B0%9C%EC%88%98.ipynb\" target=\"_parent\"><img src=\"https://colab.research.google.com/assets/colab-badge.svg\" alt=\"Open In Colab\"/></a>"
      ]
    },
    {
      "cell_type": "markdown",
      "metadata": {
        "id": "SblF4vWQIT8Q",
        "colab_type": "text"
      },
      "source": [
        "### 09.17\n",
        "https://www.acmicpc.net/problem/1676\n",
        "\n",
        "문제\n",
        "---\n",
        "N!에서 뒤에서부터 처음 0이 아닌 숫자가 나올 때까지 0의 개수를 구하는 프로그램을 작성하시오.\n",
        "\n",
        "입력\n",
        "---\n",
        "첫째 줄에 N이 주어진다. (0 ≤ N ≤ 500)\n",
        "\n",
        "출력\n",
        "---\n",
        "첫째 줄에 구한 0의 개수를 출력한다."
      ]
    },
    {
      "cell_type": "code",
      "metadata": {
        "id": "9jSpmnFaIbbQ",
        "colab_type": "code",
        "colab": {
          "base_uri": "https://localhost:8080/",
          "height": 53
        },
        "outputId": "24fc98bc-bf04-47b7-f18e-b34381f701c9"
      },
      "source": [
        "\"\"\"\n",
        "factorial 계산해서 문자열로 변환 뒤 확인\n",
        "\n",
        "factorial을 안구하고 하는 방법이 있다.\n",
        "5가 곱해질 때마다 0이 늘어나기 때문에 이를 이용한다. (5, 25, 125로 나눠봄)\n",
        "\"\"\"\n",
        "\n",
        "n = int(input())\n",
        "\n",
        "def factorial(n):\n",
        "    if n == 0 or n == 1:\n",
        "        return 1\n",
        "    else:\n",
        "        return n * factorial(n-1)\n",
        "\n",
        "fact = str(factorial(n))[::-1]\n",
        "for i in range(len(fact)):\n",
        "    if fact[i] != '0':\n",
        "        print(i)\n",
        "        break"
      ],
      "execution_count": 6,
      "outputs": [
        {
          "output_type": "stream",
          "text": [
            "10\n",
            "2\n"
          ],
          "name": "stdout"
        }
      ]
    },
    {
      "cell_type": "code",
      "metadata": {
        "id": "iQp3y_ZkI4MX",
        "colab_type": "code",
        "colab": {
          "base_uri": "https://localhost:8080/",
          "height": 35
        },
        "outputId": "b04f8f19-5d1b-4cac-b5ac-43772dcab602"
      },
      "source": [
        "fact[0]"
      ],
      "execution_count": 5,
      "outputs": [
        {
          "output_type": "execute_result",
          "data": {
            "application/vnd.google.colaboratory.intrinsic+json": {
              "type": "string"
            },
            "text/plain": [
              "'0'"
            ]
          },
          "metadata": {
            "tags": []
          },
          "execution_count": 5
        }
      ]
    },
    {
      "cell_type": "code",
      "metadata": {
        "id": "GAV7U0_DI6X0",
        "colab_type": "code",
        "colab": {}
      },
      "source": [
        ""
      ],
      "execution_count": null,
      "outputs": []
    }
  ]
}