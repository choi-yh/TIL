{
  "nbformat": 4,
  "nbformat_minor": 0,
  "metadata": {
    "colab": {
      "name": "10809. 알파벳 찾기.ipynb",
      "provenance": [],
      "collapsed_sections": [],
      "authorship_tag": "ABX9TyOoke3DbDmECuLjcFt1YMym",
      "include_colab_link": true
    },
    "kernelspec": {
      "name": "python3",
      "display_name": "Python 3"
    }
  },
  "cells": [
    {
      "cell_type": "markdown",
      "metadata": {
        "id": "view-in-github",
        "colab_type": "text"
      },
      "source": [
        "<a href=\"https://colab.research.google.com/github/choi-yh/BOJ/blob/master/10809_%EC%95%8C%ED%8C%8C%EB%B2%B3_%EC%B0%BE%EA%B8%B0.ipynb\" target=\"_parent\"><img src=\"https://colab.research.google.com/assets/colab-badge.svg\" alt=\"Open In Colab\"/></a>"
      ]
    },
    {
      "cell_type": "markdown",
      "metadata": {
        "id": "x2W4g-08VA2t",
        "colab_type": "text"
      },
      "source": [
        "### <font color = 'green'> 09.09  \n",
        "https://www.acmicpc.net/problem/10809\n",
        "\n",
        "문제\n",
        "---\n",
        "알파벳 소문자로만 이루어진 단어 S가 주어진다. 각각의 알파벳에 대해서, 단어에 포함되어 있는 경우에는 처음 등장하는 위치를, 포함되어 있지 않은 경우에는 -1을 출력하는 프로그램을 작성하시오.\n",
        "\n",
        "입력\n",
        "---\n",
        "첫째 줄에 단어 S가 주어진다. 단어의 길이는 100을 넘지 않으며, 알파벳 소문자로만 이루어져 있다.\n",
        "\n",
        "출력\n",
        "---\n",
        "각각의 알파벳에 대해서, a가 처음 등장하는 위치, b가 처음 등장하는 위치, ... z가 처음 등장하는 위치를 공백으로 구분해서 출력한다.\n",
        "\n",
        "만약, 어떤 알파벳이 단어에 포함되어 있지 않다면 -1을 출력한다. 단어의 첫 번째 글자는 0번째 위치이고, 두 번째 글자는 1번째 위치이다."
      ]
    },
    {
      "cell_type": "code",
      "metadata": {
        "id": "u8pCjkLoVKub",
        "colab_type": "code",
        "colab": {
          "base_uri": "https://localhost:8080/",
          "height": 53
        },
        "outputId": "f44f7886-5835-42d8-8cec-b2890391d4a7"
      },
      "source": [
        "\"\"\"\n",
        "인덱스를 저장할 리스트를 -1로 초기화해서 만들어놓고\n",
        "알파벳들을 확인하면서 리스트의 해당 위치의 값이 -1인지 확인한 뒤\n",
        "-1이라면 처음 발견했을 때의 인덱스 값으로 바꿔준다.\n",
        "\"\"\"\n",
        "\n",
        "s = input()\n",
        "d = [-1] * 26\n",
        "\n",
        "for i, alphabet in enumerate(s):\n",
        "    idx = ord(alphabet) - ord('a') # 해당 알파벳의 위치\n",
        "    if d[idx] == -1:\n",
        "        d[idx] = i\n",
        "\n",
        "for i in range(len(d)):\n",
        "    print(d[i], end=' ')"
      ],
      "execution_count": 10,
      "outputs": [
        {
          "output_type": "stream",
          "text": [
            "baekjoon\n",
            "1 0 -1 -1 2 -1 -1 -1 -1 4 3 -1 -1 7 5 -1 -1 -1 -1 -1 -1 -1 -1 -1 -1 -1 "
          ],
          "name": "stdout"
        }
      ]
    },
    {
      "cell_type": "code",
      "metadata": {
        "id": "jgQElDmVVlkX",
        "colab_type": "code",
        "colab": {}
      },
      "source": [
        ""
      ],
      "execution_count": 7,
      "outputs": []
    },
    {
      "cell_type": "code",
      "metadata": {
        "id": "p2jGwwwnXaFs",
        "colab_type": "code",
        "colab": {}
      },
      "source": [
        ""
      ],
      "execution_count": null,
      "outputs": []
    }
  ]
}
