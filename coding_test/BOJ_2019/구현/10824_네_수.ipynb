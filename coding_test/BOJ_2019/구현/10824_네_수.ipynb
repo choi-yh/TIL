{
  "nbformat": 4,
  "nbformat_minor": 0,
  "metadata": {
    "colab": {
      "name": "10824. 네 수.ipynb",
      "provenance": [],
      "collapsed_sections": [],
      "authorship_tag": "ABX9TyPFfA9kePf2ALLuKUL+WGoM",
      "include_colab_link": true
    },
    "kernelspec": {
      "name": "python3",
      "display_name": "Python 3"
    }
  },
  "cells": [
    {
      "cell_type": "markdown",
      "metadata": {
        "id": "view-in-github",
        "colab_type": "text"
      },
      "source": [
        "<a href=\"https://colab.research.google.com/github/choi-yh/BOJ/blob/master/10824_%EB%84%A4_%EC%88%98.ipynb\" target=\"_parent\"><img src=\"https://colab.research.google.com/assets/colab-badge.svg\" alt=\"Open In Colab\"/></a>"
      ]
    },
    {
      "cell_type": "markdown",
      "metadata": {
        "id": "I4E-YSgOGFGX",
        "colab_type": "text"
      },
      "source": [
        "### 09.10\n",
        "\n",
        "문제\n",
        "---\n",
        "네 자연수 A, B, C, D가 주어진다. 이때, A와 B를 붙인 수와 C와 D를 붙인 수의 합을 구하는 프로그램을 작성하시오.\n",
        "\n",
        "두 수 A와 B를 합치는 것은 A의 뒤에 B를 붙이는 것을 의미한다. 즉, 20과 30을 붙이면 2030이 된다.\n",
        "\n",
        "입력\n",
        "---\n",
        "첫째 줄에 네 자연수 A, B, C, D가 주어진다. (1 ≤ A, B, C, D ≤ 1,000,000)\n",
        "\n",
        "출력\n",
        "---\n",
        "A와 B를 붙인 수와 C와 D를 붙인 수의 합을 출력한다."
      ]
    },
    {
      "cell_type": "code",
      "metadata": {
        "id": "ICJB09ciGZ7M",
        "colab_type": "code",
        "colab": {
          "base_uri": "https://localhost:8080/",
          "height": 53
        },
        "outputId": "696514ac-cf02-4388-f36c-0c04decbed58"
      },
      "source": [
        "\"\"\"\n",
        "어렵지 않게 풀린다\n",
        "\"\"\"\n",
        "\n",
        "a, b, c, d = map(int, input().split())\n",
        "\n",
        "first = int(str(a) + str(b))\n",
        "second = int(str(c) + str(d))\n",
        "\n",
        "print(first + second)"
      ],
      "execution_count": 1,
      "outputs": [
        {
          "output_type": "stream",
          "text": [
            "10 20 30 40\n",
            "4060\n"
          ],
          "name": "stdout"
        }
      ]
    },
    {
      "cell_type": "code",
      "metadata": {
        "id": "csPQ3Tx4HGYB",
        "colab_type": "code",
        "colab": {}
      },
      "source": [
        ""
      ],
      "execution_count": null,
      "outputs": []
    }
  ]
}
