{
  "nbformat": 4,
  "nbformat_minor": 0,
  "metadata": {
    "colab": {
      "name": "1991. 트리 순회.ipynb",
      "provenance": [],
      "collapsed_sections": [],
      "authorship_tag": "ABX9TyO7m7ANcRDQ/617WiwMmU+L",
      "include_colab_link": true
    },
    "kernelspec": {
      "name": "python3",
      "display_name": "Python 3"
    }
  },
  "cells": [
    {
      "cell_type": "markdown",
      "metadata": {
        "id": "view-in-github",
        "colab_type": "text"
      },
      "source": [
        "<a href=\"https://colab.research.google.com/github/choi-yh/BOJ/blob/master/%EA%B7%B8%EB%9E%98%ED%94%84/1991_%ED%8A%B8%EB%A6%AC_%EC%88%9C%ED%9A%8C.ipynb\" target=\"_parent\"><img src=\"https://colab.research.google.com/assets/colab-badge.svg\" alt=\"Open In Colab\"/></a>"
      ]
    },
    {
      "cell_type": "markdown",
      "metadata": {
        "id": "dRywdmqLghG1"
      },
      "source": [
        "### 10.12\n",
        "https://www.acmicpc.net/problem/1991\n",
        "\n",
        "문제\n",
        "---\n",
        "이진 트리를 입력받아 전위 순회(preorder traversal), 중위 순회(inorder traversal), 후위 순회(postorder traversal)한 결과를 출력하는 프로그램을 작성하시오.\n",
        "\n",
        "![image.png](data:image/png;base64,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)\n",
        "\n",
        "예를 들어 위와 같은 이진 트리가 입력되면,\n",
        "\n",
        "* 전위 순회한 결과 : ABDCEFG // (루트) (왼쪽 자식) (오른쪽 자식)\n",
        "* 중위 순회한 결과 : DBAECFG // (왼쪽 자식) (루트) (오른쪽 자식)\n",
        "* 후위 순회한 결과 : DBEGFCA // (왼쪽 자식) (오른쪽 자식) (루트)\n",
        "가 된다.\n",
        "\n",
        "입력\n",
        "---\n",
        "첫째 줄에는 이진 트리의 노드의 개수 N(1≤N≤26)이 주어진다. 둘째 줄부터 N개의 줄에 걸쳐 각 노드와 그의 왼쪽 자식 노드, 오른쪽 자식 노드가 주어진다. 노드의 이름은 A부터 차례대로 영문자 대문자로 매겨지며, 항상 A가 루트 노드가 된다. 자식 노드가 없는 경우에는 .으로 표현된다.\n",
        "\n",
        "출력\n",
        "---\n",
        "첫째 줄에 전위 순회, 둘째 줄에 중위 순회, 셋째 줄에 후위 순회한 결과를 출력한다. 각 줄에 N개의 알파벳을 공백 없이 출력하면 된다."
      ]
    },
    {
      "cell_type": "code",
      "metadata": {
        "id": "S61WO9DLgqte",
        "outputId": "178b5707-89a2-4652-a344-b39dd2bc61b0",
        "colab": {
          "base_uri": "https://localhost:8080/",
          "height": 210
        }
      },
      "source": [
        "n = int(input())\n",
        "\n",
        "# 트리 입력 받기\n",
        "tree = dict()\n",
        "for _ in range(n):\n",
        "    parent, lchild, rchild = input().split()\n",
        "    tree[parent] = [lchild, rchild]\n",
        "\n",
        "# 전위 순회\n",
        "def preOrder(node): \n",
        "    if node == '.':\n",
        "        return\n",
        "    print(node, end='')\n",
        "    preOrder(tree[node][0])\n",
        "    preOrder(tree[node][1])\n",
        "\n",
        "# 중위 순회\n",
        "def inOrder(node):\n",
        "    if node == '.':\n",
        "        return\n",
        "    inOrder(tree[node][0])\n",
        "    print(node, end='')\n",
        "    inOrder(tree[node][1])\n",
        "\n",
        "# 후위 순회\n",
        "def postOrder(node):\n",
        "    if node == '.':\n",
        "        return\n",
        "    postOrder(tree[node][0])\n",
        "    postOrder(tree[node][1])\n",
        "    print(node, end='')\n",
        "\n",
        "preOrder('A')\n",
        "print('')\n",
        "inOrder('A')\n",
        "print('')\n",
        "postOrder('A')"
      ],
      "execution_count": 13,
      "outputs": [
        {
          "output_type": "stream",
          "text": [
            "7\n",
            "A B C\n",
            "B D .\n",
            "C E F\n",
            "E . .\n",
            "F . G\n",
            "D . .\n",
            "G . .\n",
            "ABDCEFG\n",
            "DBAECFG\n",
            "DBEGFCA"
          ],
          "name": "stdout"
        }
      ]
    },
    {
      "cell_type": "code",
      "metadata": {
        "id": "6SbTvCqRjmAX",
        "outputId": "0cfcbf00-518b-4a90-e737-2c3f19af7e64",
        "colab": {
          "base_uri": "https://localhost:8080/",
          "height": 34
        }
      },
      "source": [
        "def preOrder(node):\n",
        "    if node == '.':\n",
        "        return\n",
        "    print(node, end='')\n",
        "    preOrder(tree[node][0])\n",
        "    preOrder(tree[node][1])\n",
        "\n",
        "preOrder('A')"
      ],
      "execution_count": 7,
      "outputs": [
        {
          "output_type": "stream",
          "text": [
            "ABDCEFG"
          ],
          "name": "stdout"
        }
      ]
    },
    {
      "cell_type": "code",
      "metadata": {
        "id": "Cl3U6DEQkbAY",
        "outputId": "fe19f334-30e1-4577-e71f-2279a4c10a31",
        "colab": {
          "base_uri": "https://localhost:8080/",
          "height": 34
        }
      },
      "source": [
        "def inOrder(node):\n",
        "    if node == '.':\n",
        "        return\n",
        "    inOrder(tree[node][0])\n",
        "    print(node, end='')\n",
        "    inOrder(tree[node][1])\n",
        "\n",
        "inOrder('A')"
      ],
      "execution_count": 8,
      "outputs": [
        {
          "output_type": "stream",
          "text": [
            "DBAECFG"
          ],
          "name": "stdout"
        }
      ]
    },
    {
      "cell_type": "code",
      "metadata": {
        "id": "Gef8Mmf6kyWL",
        "outputId": "7a37af24-cb23-473e-d0e1-a2f727e9dbcd",
        "colab": {
          "base_uri": "https://localhost:8080/",
          "height": 34
        }
      },
      "source": [
        "def postOrder(node):\n",
        "    if node == '.':\n",
        "        return\n",
        "    postOrder(tree[node][0])\n",
        "    postOrder(tree[node][1])\n",
        "    print(node, end='')\n",
        "\n",
        "postOrder('A')"
      ],
      "execution_count": 10,
      "outputs": [
        {
          "output_type": "stream",
          "text": [
            "DBEGFCA"
          ],
          "name": "stdout"
        }
      ]
    },
    {
      "cell_type": "code",
      "metadata": {
        "id": "Hi8RifgCk8ww"
      },
      "source": [
        ""
      ],
      "execution_count": null,
      "outputs": []
    }
  ]
}